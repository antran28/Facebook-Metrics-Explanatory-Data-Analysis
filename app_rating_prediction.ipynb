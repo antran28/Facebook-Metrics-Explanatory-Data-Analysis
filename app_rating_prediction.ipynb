{
  "metadata": {
    "kernelspec": {
      "language": "python",
      "display_name": "Python 3",
      "name": "python3"
    },
    "language_info": {
      "pygments_lexer": "ipython3",
      "nbconvert_exporter": "python",
      "version": "3.6.4",
      "file_extension": ".py",
      "codemirror_mode": {
        "name": "ipython",
        "version": 3
      },
      "name": "python",
      "mimetype": "text/x-python"
    },
    "colab": {
      "provenance": [],
      "collapsed_sections": [
        "Jwe-wV42NYV2",
        "3Yf_l7SDNYV7",
        "23YgibcONYWA",
        "4KT-ZDodNYWC",
        "NybqbPPKNYWG",
        "4wX0xtRzNYWH",
        "RepCXqv5NYWK",
        "wN7VNGMDNYWK",
        "fByq0qAJNYWL",
        "dUvTnqY5NYWL",
        "sOIE9BCxNYWL",
        "XftFMef-NYWM",
        "Qbh85QFJNYWN",
        "ygVIKXVANYWO",
        "BN0lU-dMNYWR",
        "rN_DPD_QNYWU",
        "WEgzhxMENYWV",
        "bPkchxcONYWV",
        "wiHBb-iSNYWW",
        "KM6-Q5TUNYWW",
        "pczYa9TANYWW",
        "uTNZssNMNYWX",
        "D_tlellhNYWX",
        "PMW-7k6yNYWY",
        "kUpj7vgYNYWb",
        "jSadHNiFNYWb"
      ]
    }
  },
  "nbformat_minor": 0,
  "nbformat": 4,
  "cells": [
    {
      "cell_type": "markdown",
      "source": [
        "The following project is about the analysis of a dataset contaning data about google play store in order to find interesting insights and predict the app rating based on some app features."
      ],
      "metadata": {
        "id": "PK2ySpgcPuPo"
      }
    },
    {
      "cell_type": "markdown",
      "source": [
        "The project can be divided in the following sections:<br>\n",
        "- Dataset cleaning + Feature Engineering<br>\n",
        "- Exploratory Data Analysis: answering interesting questions about the data<br>\n",
        "- Data preparation for ML (encoding, scaling) for Rating prediction<br>\n",
        "- ML modeling<br>\n",
        "- Results<br>"
      ],
      "metadata": {
        "id": "iGILpY1ONYVt"
      }
    },
    {
      "cell_type": "markdown",
      "source": [
        "# *Main results Summary*"
      ],
      "metadata": {
        "id": "WRYMgd9eNYVu"
      }
    },
    {
      "cell_type": "markdown",
      "source": [
        "![image.png](attachment:95dca130-c151-4b43-ac18-7bd6ac858cc8.png)"
      ],
      "metadata": {
        "id": "18oZOh_aNYVv"
      }
    },
    {
      "cell_type": "code",
      "source": [
        "# import os\n",
        "# for dirname, _, filenames in os.walk('/kaggle/input'):\n",
        "#     for filename in filenames:\n",
        "#         print(os.path.join(dirname, filename))"
      ],
      "metadata": {
        "execution": {
          "iopub.status.busy": "2021-10-26T22:46:48.579788Z",
          "iopub.execute_input": "2021-10-26T22:46:48.580164Z",
          "iopub.status.idle": "2021-10-26T22:46:48.597617Z",
          "shell.execute_reply.started": "2021-10-26T22:46:48.580104Z",
          "shell.execute_reply": "2021-10-26T22:46:48.596851Z"
        },
        "trusted": true,
        "id": "njDXK2czNYVv"
      },
      "execution_count": null,
      "outputs": []
    },
    {
      "cell_type": "code",
      "source": [
        "import pandas as pd\n",
        "import numpy as np\n",
        "import matplotlib.pyplot as plt\n",
        "import seaborn as sns\n",
        "\n",
        "from sklearn.preprocessing import MinMaxScaler\n",
        "from sklearn.preprocessing import LabelEncoder\n",
        "from sklearn.impute import KNNImputer\n",
        "from sklearn.model_selection import train_test_split\n",
        "\n",
        "from sklearn.metrics import mean_squared_error\n",
        "from sklearn.ensemble import RandomForestRegressor\n",
        "from xgboost import XGBRegressor\n",
        "\n",
        "from google.colab import drive\n"
      ],
      "metadata": {
        "execution": {
          "iopub.status.busy": "2021-10-26T22:46:48.602483Z",
          "iopub.execute_input": "2021-10-26T22:46:48.603377Z",
          "iopub.status.idle": "2021-10-26T22:46:49.101203Z",
          "shell.execute_reply.started": "2021-10-26T22:46:48.603327Z",
          "shell.execute_reply": "2021-10-26T22:46:49.100375Z"
        },
        "trusted": true,
        "id": "s7Op-gQUNYVw"
      },
      "execution_count": null,
      "outputs": []
    },
    {
      "cell_type": "code",
      "source": [
        "!pip install -U -q PyDrive\n",
        "\n",
        "from pydrive.auth import GoogleAuth\n",
        "from pydrive.drive import GoogleDrive\n",
        "from google.colab import auth\n",
        "from oauth2client.client import GoogleCredentials\n",
        "\n",
        "# 1. Authenticate and create the PyDrive client.\n",
        "auth.authenticate_user()\n",
        "gauth = GoogleAuth()\n",
        "gauth.credentials = GoogleCredentials.get_application_default()\n",
        "drive = GoogleDrive(gauth)"
      ],
      "metadata": {
        "id": "gq_ZQOfFRMbS"
      },
      "execution_count": null,
      "outputs": []
    },
    {
      "cell_type": "code",
      "source": [
        "drive"
      ],
      "metadata": {
        "colab": {
          "base_uri": "https://localhost:8080/"
        },
        "id": "ji4BeNpgLGWe",
        "outputId": "a2979e83-c677-4f48-e9ee-c6dc9a453d00"
      },
      "execution_count": null,
      "outputs": [
        {
          "output_type": "execute_result",
          "data": {
            "text/plain": [
              "<pydrive.drive.GoogleDrive at 0x7fdbce554190>"
            ]
          },
          "metadata": {},
          "execution_count": 13
        }
      ]
    },
    {
      "cell_type": "code",
      "source": [
        "file_list = drive.ListFile({'q': \"'1LDb37kQstSWOP_x7rSqW7XRehPUzzgmt' in parents and trashed=false\"}).GetList()"
      ],
      "metadata": {
        "id": "AhJ-3DO9TZh2"
      },
      "execution_count": null,
      "outputs": []
    },
    {
      "cell_type": "code",
      "source": [
        "for file1 in file_list:\n",
        "  print('title: %s, id: %s' % (file1['title'], file1['id']))"
      ],
      "metadata": {
        "id": "OwKrVTdbTxZ-",
        "colab": {
          "base_uri": "https://localhost:8080/"
        },
        "outputId": "dad65344-21d0-40b7-df4c-223a7b46ba4d"
      },
      "execution_count": null,
      "outputs": [
        {
          "output_type": "stream",
          "name": "stdout",
          "text": [
            "title: googleplaystore.csv, id: 11zqy3UVL596QePrcX5PInEa6QOdY-Ye0\n"
          ]
        }
      ]
    },
    {
      "cell_type": "code",
      "source": [
        "import pandas as pd\n",
        "import io\n",
        "googleplaystore_data = drive.CreateFile({'id': '1aTuuYzxj5TZR8slFs7C0wWZ5NfYNUOSz'})\n",
        "googleplaystore_data.GetContentFile('googleplaystore.csv')"
      ],
      "metadata": {
        "id": "or8YPG3OV69a"
      },
      "execution_count": null,
      "outputs": []
    },
    {
      "cell_type": "code",
      "source": [
        "df = pd.read_csv('googleplaystore.csv')\n",
        "df.head()"
      ],
      "metadata": {
        "execution": {
          "iopub.status.busy": "2021-10-26T22:46:49.102626Z",
          "iopub.execute_input": "2021-10-26T22:46:49.102962Z",
          "iopub.status.idle": "2021-10-26T22:46:49.175596Z",
          "shell.execute_reply.started": "2021-10-26T22:46:49.102928Z",
          "shell.execute_reply": "2021-10-26T22:46:49.174599Z"
        },
        "trusted": true,
        "id": "VnD4L4szNYVw",
        "colab": {
          "base_uri": "https://localhost:8080/",
          "height": 384
        },
        "outputId": "bf47f524-e516-4f57-c5ce-afd554582023"
      },
      "execution_count": null,
      "outputs": [
        {
          "output_type": "execute_result",
          "data": {
            "text/plain": [
              "                                                 App        Category  Rating  \\\n",
              "0     Photo Editor & Candy Camera & Grid & ScrapBook  ART_AND_DESIGN     4.1   \n",
              "1                                Coloring book moana  ART_AND_DESIGN     3.9   \n",
              "2  U Launcher Lite – FREE Live Cool Themes, Hide ...  ART_AND_DESIGN     4.7   \n",
              "3                              Sketch - Draw & Paint  ART_AND_DESIGN     4.5   \n",
              "4              Pixel Draw - Number Art Coloring Book  ART_AND_DESIGN     4.3   \n",
              "\n",
              "  Reviews  Size     Installs  Type Price Content Rating  \\\n",
              "0     159   19M      10,000+  Free     0       Everyone   \n",
              "1     967   14M     500,000+  Free     0       Everyone   \n",
              "2   87510  8.7M   5,000,000+  Free     0       Everyone   \n",
              "3  215644   25M  50,000,000+  Free     0           Teen   \n",
              "4     967  2.8M     100,000+  Free     0       Everyone   \n",
              "\n",
              "                      Genres      Last Updated         Current Ver  \\\n",
              "0               Art & Design   January 7, 2018               1.0.0   \n",
              "1  Art & Design;Pretend Play  January 15, 2018               2.0.0   \n",
              "2               Art & Design    August 1, 2018               1.2.4   \n",
              "3               Art & Design      June 8, 2018  Varies with device   \n",
              "4    Art & Design;Creativity     June 20, 2018                 1.1   \n",
              "\n",
              "    Android Ver  \n",
              "0  4.0.3 and up  \n",
              "1  4.0.3 and up  \n",
              "2  4.0.3 and up  \n",
              "3    4.2 and up  \n",
              "4    4.4 and up  "
            ],
            "text/html": [
              "\n",
              "  <div id=\"df-2c81dbd8-39b0-4bf6-86ca-9ed7e8d9f8ba\">\n",
              "    <div class=\"colab-df-container\">\n",
              "      <div>\n",
              "<style scoped>\n",
              "    .dataframe tbody tr th:only-of-type {\n",
              "        vertical-align: middle;\n",
              "    }\n",
              "\n",
              "    .dataframe tbody tr th {\n",
              "        vertical-align: top;\n",
              "    }\n",
              "\n",
              "    .dataframe thead th {\n",
              "        text-align: right;\n",
              "    }\n",
              "</style>\n",
              "<table border=\"1\" class=\"dataframe\">\n",
              "  <thead>\n",
              "    <tr style=\"text-align: right;\">\n",
              "      <th></th>\n",
              "      <th>App</th>\n",
              "      <th>Category</th>\n",
              "      <th>Rating</th>\n",
              "      <th>Reviews</th>\n",
              "      <th>Size</th>\n",
              "      <th>Installs</th>\n",
              "      <th>Type</th>\n",
              "      <th>Price</th>\n",
              "      <th>Content Rating</th>\n",
              "      <th>Genres</th>\n",
              "      <th>Last Updated</th>\n",
              "      <th>Current Ver</th>\n",
              "      <th>Android Ver</th>\n",
              "    </tr>\n",
              "  </thead>\n",
              "  <tbody>\n",
              "    <tr>\n",
              "      <th>0</th>\n",
              "      <td>Photo Editor &amp; Candy Camera &amp; Grid &amp; ScrapBook</td>\n",
              "      <td>ART_AND_DESIGN</td>\n",
              "      <td>4.1</td>\n",
              "      <td>159</td>\n",
              "      <td>19M</td>\n",
              "      <td>10,000+</td>\n",
              "      <td>Free</td>\n",
              "      <td>0</td>\n",
              "      <td>Everyone</td>\n",
              "      <td>Art &amp; Design</td>\n",
              "      <td>January 7, 2018</td>\n",
              "      <td>1.0.0</td>\n",
              "      <td>4.0.3 and up</td>\n",
              "    </tr>\n",
              "    <tr>\n",
              "      <th>1</th>\n",
              "      <td>Coloring book moana</td>\n",
              "      <td>ART_AND_DESIGN</td>\n",
              "      <td>3.9</td>\n",
              "      <td>967</td>\n",
              "      <td>14M</td>\n",
              "      <td>500,000+</td>\n",
              "      <td>Free</td>\n",
              "      <td>0</td>\n",
              "      <td>Everyone</td>\n",
              "      <td>Art &amp; Design;Pretend Play</td>\n",
              "      <td>January 15, 2018</td>\n",
              "      <td>2.0.0</td>\n",
              "      <td>4.0.3 and up</td>\n",
              "    </tr>\n",
              "    <tr>\n",
              "      <th>2</th>\n",
              "      <td>U Launcher Lite – FREE Live Cool Themes, Hide ...</td>\n",
              "      <td>ART_AND_DESIGN</td>\n",
              "      <td>4.7</td>\n",
              "      <td>87510</td>\n",
              "      <td>8.7M</td>\n",
              "      <td>5,000,000+</td>\n",
              "      <td>Free</td>\n",
              "      <td>0</td>\n",
              "      <td>Everyone</td>\n",
              "      <td>Art &amp; Design</td>\n",
              "      <td>August 1, 2018</td>\n",
              "      <td>1.2.4</td>\n",
              "      <td>4.0.3 and up</td>\n",
              "    </tr>\n",
              "    <tr>\n",
              "      <th>3</th>\n",
              "      <td>Sketch - Draw &amp; Paint</td>\n",
              "      <td>ART_AND_DESIGN</td>\n",
              "      <td>4.5</td>\n",
              "      <td>215644</td>\n",
              "      <td>25M</td>\n",
              "      <td>50,000,000+</td>\n",
              "      <td>Free</td>\n",
              "      <td>0</td>\n",
              "      <td>Teen</td>\n",
              "      <td>Art &amp; Design</td>\n",
              "      <td>June 8, 2018</td>\n",
              "      <td>Varies with device</td>\n",
              "      <td>4.2 and up</td>\n",
              "    </tr>\n",
              "    <tr>\n",
              "      <th>4</th>\n",
              "      <td>Pixel Draw - Number Art Coloring Book</td>\n",
              "      <td>ART_AND_DESIGN</td>\n",
              "      <td>4.3</td>\n",
              "      <td>967</td>\n",
              "      <td>2.8M</td>\n",
              "      <td>100,000+</td>\n",
              "      <td>Free</td>\n",
              "      <td>0</td>\n",
              "      <td>Everyone</td>\n",
              "      <td>Art &amp; Design;Creativity</td>\n",
              "      <td>June 20, 2018</td>\n",
              "      <td>1.1</td>\n",
              "      <td>4.4 and up</td>\n",
              "    </tr>\n",
              "  </tbody>\n",
              "</table>\n",
              "</div>\n",
              "      <button class=\"colab-df-convert\" onclick=\"convertToInteractive('df-2c81dbd8-39b0-4bf6-86ca-9ed7e8d9f8ba')\"\n",
              "              title=\"Convert this dataframe to an interactive table.\"\n",
              "              style=\"display:none;\">\n",
              "        \n",
              "  <svg xmlns=\"http://www.w3.org/2000/svg\" height=\"24px\"viewBox=\"0 0 24 24\"\n",
              "       width=\"24px\">\n",
              "    <path d=\"M0 0h24v24H0V0z\" fill=\"none\"/>\n",
              "    <path d=\"M18.56 5.44l.94 2.06.94-2.06 2.06-.94-2.06-.94-.94-2.06-.94 2.06-2.06.94zm-11 1L8.5 8.5l.94-2.06 2.06-.94-2.06-.94L8.5 2.5l-.94 2.06-2.06.94zm10 10l.94 2.06.94-2.06 2.06-.94-2.06-.94-.94-2.06-.94 2.06-2.06.94z\"/><path d=\"M17.41 7.96l-1.37-1.37c-.4-.4-.92-.59-1.43-.59-.52 0-1.04.2-1.43.59L10.3 9.45l-7.72 7.72c-.78.78-.78 2.05 0 2.83L4 21.41c.39.39.9.59 1.41.59.51 0 1.02-.2 1.41-.59l7.78-7.78 2.81-2.81c.8-.78.8-2.07 0-2.86zM5.41 20L4 18.59l7.72-7.72 1.47 1.35L5.41 20z\"/>\n",
              "  </svg>\n",
              "      </button>\n",
              "      \n",
              "  <style>\n",
              "    .colab-df-container {\n",
              "      display:flex;\n",
              "      flex-wrap:wrap;\n",
              "      gap: 12px;\n",
              "    }\n",
              "\n",
              "    .colab-df-convert {\n",
              "      background-color: #E8F0FE;\n",
              "      border: none;\n",
              "      border-radius: 50%;\n",
              "      cursor: pointer;\n",
              "      display: none;\n",
              "      fill: #1967D2;\n",
              "      height: 32px;\n",
              "      padding: 0 0 0 0;\n",
              "      width: 32px;\n",
              "    }\n",
              "\n",
              "    .colab-df-convert:hover {\n",
              "      background-color: #E2EBFA;\n",
              "      box-shadow: 0px 1px 2px rgba(60, 64, 67, 0.3), 0px 1px 3px 1px rgba(60, 64, 67, 0.15);\n",
              "      fill: #174EA6;\n",
              "    }\n",
              "\n",
              "    [theme=dark] .colab-df-convert {\n",
              "      background-color: #3B4455;\n",
              "      fill: #D2E3FC;\n",
              "    }\n",
              "\n",
              "    [theme=dark] .colab-df-convert:hover {\n",
              "      background-color: #434B5C;\n",
              "      box-shadow: 0px 1px 3px 1px rgba(0, 0, 0, 0.15);\n",
              "      filter: drop-shadow(0px 1px 2px rgba(0, 0, 0, 0.3));\n",
              "      fill: #FFFFFF;\n",
              "    }\n",
              "  </style>\n",
              "\n",
              "      <script>\n",
              "        const buttonEl =\n",
              "          document.querySelector('#df-2c81dbd8-39b0-4bf6-86ca-9ed7e8d9f8ba button.colab-df-convert');\n",
              "        buttonEl.style.display =\n",
              "          google.colab.kernel.accessAllowed ? 'block' : 'none';\n",
              "\n",
              "        async function convertToInteractive(key) {\n",
              "          const element = document.querySelector('#df-2c81dbd8-39b0-4bf6-86ca-9ed7e8d9f8ba');\n",
              "          const dataTable =\n",
              "            await google.colab.kernel.invokeFunction('convertToInteractive',\n",
              "                                                     [key], {});\n",
              "          if (!dataTable) return;\n",
              "\n",
              "          const docLinkHtml = 'Like what you see? Visit the ' +\n",
              "            '<a target=\"_blank\" href=https://colab.research.google.com/notebooks/data_table.ipynb>data table notebook</a>'\n",
              "            + ' to learn more about interactive tables.';\n",
              "          element.innerHTML = '';\n",
              "          dataTable['output_type'] = 'display_data';\n",
              "          await google.colab.output.renderOutput(dataTable, element);\n",
              "          const docLink = document.createElement('div');\n",
              "          docLink.innerHTML = docLinkHtml;\n",
              "          element.appendChild(docLink);\n",
              "        }\n",
              "      </script>\n",
              "    </div>\n",
              "  </div>\n",
              "  "
            ]
          },
          "metadata": {},
          "execution_count": 17
        }
      ]
    },
    {
      "cell_type": "code",
      "source": [
        "df.info()"
      ],
      "metadata": {
        "execution": {
          "iopub.status.busy": "2021-10-26T22:46:49.177764Z",
          "iopub.execute_input": "2021-10-26T22:46:49.178038Z",
          "iopub.status.idle": "2021-10-26T22:46:49.211086Z",
          "shell.execute_reply.started": "2021-10-26T22:46:49.178007Z",
          "shell.execute_reply": "2021-10-26T22:46:49.20987Z"
        },
        "trusted": true,
        "id": "j-xl_qtlNYVx"
      },
      "execution_count": null,
      "outputs": []
    },
    {
      "cell_type": "markdown",
      "source": [
        "We can already notice that some columns that should be 'Numerical' are labeled as objects (strings).<br>\n",
        "We will work on this and convert these columns into numerical."
      ],
      "metadata": {
        "id": "48uYGlXgNYVx"
      }
    },
    {
      "cell_type": "markdown",
      "source": [
        "# Numerical Features Cleaning and Analysis"
      ],
      "metadata": {
        "id": "7tzZnu_5NYVx"
      }
    },
    {
      "cell_type": "markdown",
      "source": [
        "In this section, some basic cleaning will be performed, then every feature will be analyzed."
      ],
      "metadata": {
        "id": "pwsiiLxhNYVy"
      }
    },
    {
      "cell_type": "markdown",
      "source": [
        "Moreover, we will define a custom function to get boxplot and histogram for numerical features."
      ],
      "metadata": {
        "id": "RIpunDsONYVy"
      }
    },
    {
      "cell_type": "code",
      "source": [
        "def num_plots(df, col, title, xlabel):\n",
        "    fig, ax = plt.subplots(2, 1, sharex=True, figsize=(8,5),gridspec_kw={\"height_ratios\": (.2, .8)})\n",
        "    ax[0].set_title(title,fontsize=18)\n",
        "    sns.boxplot(x=col, data=df, ax=ax[0])\n",
        "    ax[0].set(yticks=[])\n",
        "    sns.histplot(x=col, data=df, ax=ax[1])\n",
        "    ax[1].set_xlabel(xlabel, fontsize=16)\n",
        "    plt.tight_layout()\n",
        "    plt.show()"
      ],
      "metadata": {
        "execution": {
          "iopub.status.busy": "2021-10-26T22:46:49.21268Z",
          "iopub.execute_input": "2021-10-26T22:46:49.213629Z",
          "iopub.status.idle": "2021-10-26T22:46:49.222628Z",
          "shell.execute_reply.started": "2021-10-26T22:46:49.213578Z",
          "shell.execute_reply": "2021-10-26T22:46:49.221956Z"
        },
        "trusted": true,
        "id": "K4KNCcnDNYVy"
      },
      "execution_count": null,
      "outputs": []
    },
    {
      "cell_type": "markdown",
      "source": [
        "Before starting the analysis of each feature, we will change the columns names to lower case"
      ],
      "metadata": {
        "id": "P4HkazvdNYVz"
      }
    },
    {
      "cell_type": "code",
      "source": [
        "df = df.rename(columns=str.lower)"
      ],
      "metadata": {
        "execution": {
          "iopub.status.busy": "2021-10-26T22:46:49.223896Z",
          "iopub.execute_input": "2021-10-26T22:46:49.224764Z",
          "iopub.status.idle": "2021-10-26T22:46:49.237648Z",
          "shell.execute_reply.started": "2021-10-26T22:46:49.224692Z",
          "shell.execute_reply": "2021-10-26T22:46:49.236635Z"
        },
        "trusted": true,
        "id": "lG9E8ZSLNYVz"
      },
      "execution_count": null,
      "outputs": []
    },
    {
      "cell_type": "code",
      "source": [
        "df.columns"
      ],
      "metadata": {
        "execution": {
          "iopub.status.busy": "2021-10-26T22:46:49.238935Z",
          "iopub.execute_input": "2021-10-26T22:46:49.239163Z",
          "iopub.status.idle": "2021-10-26T22:46:49.251173Z",
          "shell.execute_reply.started": "2021-10-26T22:46:49.239137Z",
          "shell.execute_reply": "2021-10-26T22:46:49.250121Z"
        },
        "trusted": true,
        "id": "zlK4gsMnNYVz"
      },
      "execution_count": null,
      "outputs": []
    },
    {
      "cell_type": "markdown",
      "source": [
        "Are there duplicate values?"
      ],
      "metadata": {
        "id": "w9_djHYiNYV0"
      }
    },
    {
      "cell_type": "code",
      "source": [
        "df[df.duplicated(subset='app')]"
      ],
      "metadata": {
        "execution": {
          "iopub.status.busy": "2021-10-26T22:46:49.252482Z",
          "iopub.execute_input": "2021-10-26T22:46:49.252963Z",
          "iopub.status.idle": "2021-10-26T22:46:49.293526Z",
          "shell.execute_reply.started": "2021-10-26T22:46:49.252927Z",
          "shell.execute_reply": "2021-10-26T22:46:49.292752Z"
        },
        "trusted": true,
        "id": "vBXNV8WfNYV0"
      },
      "execution_count": null,
      "outputs": []
    },
    {
      "cell_type": "markdown",
      "source": [
        "There are 1181 duplicated apps apparently. They will be dropped."
      ],
      "metadata": {
        "id": "ZFd7SGCuNYV0"
      }
    },
    {
      "cell_type": "code",
      "source": [
        "df.drop_duplicates(subset='app', inplace=True, ignore_index=True)"
      ],
      "metadata": {
        "execution": {
          "iopub.status.busy": "2021-10-26T22:46:49.294783Z",
          "iopub.execute_input": "2021-10-26T22:46:49.295197Z",
          "iopub.status.idle": "2021-10-26T22:46:49.305145Z",
          "shell.execute_reply.started": "2021-10-26T22:46:49.295152Z",
          "shell.execute_reply": "2021-10-26T22:46:49.304303Z"
        },
        "trusted": true,
        "id": "Qlg2nmqrNYV1"
      },
      "execution_count": null,
      "outputs": []
    },
    {
      "cell_type": "markdown",
      "source": [
        "Moreover, we will define a copy of the original dataframe without eventual outlier called 'df_clean'."
      ],
      "metadata": {
        "id": "iJXdTge_NYV1"
      }
    },
    {
      "cell_type": "code",
      "source": [
        "df_clean = df.copy()"
      ],
      "metadata": {
        "execution": {
          "iopub.status.busy": "2021-10-26T22:46:49.306563Z",
          "iopub.execute_input": "2021-10-26T22:46:49.307272Z",
          "iopub.status.idle": "2021-10-26T22:46:49.314924Z",
          "shell.execute_reply.started": "2021-10-26T22:46:49.307212Z",
          "shell.execute_reply": "2021-10-26T22:46:49.314075Z"
        },
        "trusted": true,
        "id": "gXEt1WANNYV1"
      },
      "execution_count": null,
      "outputs": []
    },
    {
      "cell_type": "markdown",
      "source": [
        "## Reviews column cleaning"
      ],
      "metadata": {
        "id": "Jwe-wV42NYV2"
      }
    },
    {
      "cell_type": "markdown",
      "source": [
        "Are all the reviews actually numbers?"
      ],
      "metadata": {
        "id": "v0t0R6gNNYV2"
      }
    },
    {
      "cell_type": "code",
      "source": [
        "print('Number of non numeric reviews :', len(df_clean) - df_clean.reviews.str.isnumeric().sum())"
      ],
      "metadata": {
        "execution": {
          "iopub.status.busy": "2021-10-26T22:46:49.316126Z",
          "iopub.execute_input": "2021-10-26T22:46:49.316762Z",
          "iopub.status.idle": "2021-10-26T22:46:49.334304Z",
          "shell.execute_reply.started": "2021-10-26T22:46:49.316702Z",
          "shell.execute_reply": "2021-10-26T22:46:49.333408Z"
        },
        "trusted": true,
        "id": "pGYipzlMNYV2"
      },
      "execution_count": null,
      "outputs": []
    },
    {
      "cell_type": "markdown",
      "source": [
        "It looks like there is a not numeric review, which is it?"
      ],
      "metadata": {
        "id": "mjCNnBp0NYV3"
      }
    },
    {
      "cell_type": "code",
      "source": [
        "df[pd.to_numeric(df_clean.reviews, errors='coerce').isna()]"
      ],
      "metadata": {
        "execution": {
          "iopub.status.busy": "2021-10-26T22:46:49.335633Z",
          "iopub.execute_input": "2021-10-26T22:46:49.336052Z",
          "iopub.status.idle": "2021-10-26T22:46:49.366342Z",
          "shell.execute_reply.started": "2021-10-26T22:46:49.336019Z",
          "shell.execute_reply": "2021-10-26T22:46:49.365628Z"
        },
        "trusted": true,
        "id": "cgCFDL8GNYV3"
      },
      "execution_count": null,
      "outputs": []
    },
    {
      "cell_type": "markdown",
      "source": [
        "This data looks a bit weird, all the columns have apperently wrong entries. It can be corrected as follows:"
      ],
      "metadata": {
        "id": "6hF--h4yNYV3"
      }
    },
    {
      "cell_type": "code",
      "source": [
        "df.at[9300,'category'] = np.nan\n",
        "df.at[9300,'rating'] = 1.9\n",
        "df.at[9300,'reviews'] = 19.0\n",
        "df.at[9300,'size'] = '3.0M'\n",
        "df.at[9300,'installs'] = '1,000+'\n",
        "df.at[9300,'type'] = 'Free'\n",
        "df.at[9300,'price'] = 0\n",
        "df.at[9300,'content rating'] = 'Everyone'\n",
        "df.at[9300,'genres'] = np.nan\n",
        "df.at[9300,'last updated'] = 'February 11, 2018'\n",
        "df.at[9300,'current ver'] = '1.0.19'\n",
        "df.at[9300,'android ver'] = '4.0 and up'\n"
      ],
      "metadata": {
        "execution": {
          "iopub.status.busy": "2021-10-26T22:46:49.369975Z",
          "iopub.execute_input": "2021-10-26T22:46:49.370473Z",
          "iopub.status.idle": "2021-10-26T22:46:49.379858Z",
          "shell.execute_reply.started": "2021-10-26T22:46:49.370424Z",
          "shell.execute_reply": "2021-10-26T22:46:49.378938Z"
        },
        "trusted": true,
        "id": "1WfmlNfhNYV3"
      },
      "execution_count": null,
      "outputs": []
    },
    {
      "cell_type": "markdown",
      "source": [
        "However, category is still missing and in the dataframe there are over 9000+ apps. For this reason, we will drop this row."
      ],
      "metadata": {
        "id": "bn989qIpNYV4"
      }
    },
    {
      "cell_type": "code",
      "source": [
        "df_clean = df_clean.drop(9300)\n",
        "df_clean = df_clean.reset_index(drop=True)"
      ],
      "metadata": {
        "execution": {
          "iopub.status.busy": "2021-10-26T22:46:49.381784Z",
          "iopub.execute_input": "2021-10-26T22:46:49.382275Z",
          "iopub.status.idle": "2021-10-26T22:46:49.395689Z",
          "shell.execute_reply.started": "2021-10-26T22:46:49.382226Z",
          "shell.execute_reply": "2021-10-26T22:46:49.394859Z"
        },
        "trusted": true,
        "id": "1LgiHg16NYV4"
      },
      "execution_count": null,
      "outputs": []
    },
    {
      "cell_type": "code",
      "source": [
        "print('Number of non numeric reviews :', len(df_clean) - df_clean.reviews.str.isnumeric().sum())"
      ],
      "metadata": {
        "execution": {
          "iopub.status.busy": "2021-10-26T22:46:49.397112Z",
          "iopub.execute_input": "2021-10-26T22:46:49.397582Z",
          "iopub.status.idle": "2021-10-26T22:46:49.412088Z",
          "shell.execute_reply.started": "2021-10-26T22:46:49.39754Z",
          "shell.execute_reply": "2021-10-26T22:46:49.410849Z"
        },
        "trusted": true,
        "id": "lNgnsXWeNYV5"
      },
      "execution_count": null,
      "outputs": []
    },
    {
      "cell_type": "markdown",
      "source": [
        "Now the review column will be converted into int64 data type"
      ],
      "metadata": {
        "id": "45PEb9fSNYV5"
      }
    },
    {
      "cell_type": "code",
      "source": [
        "df_clean['reviews'] = df_clean['reviews'].astype('int64')"
      ],
      "metadata": {
        "execution": {
          "iopub.status.busy": "2021-10-26T22:46:49.413879Z",
          "iopub.execute_input": "2021-10-26T22:46:49.414445Z",
          "iopub.status.idle": "2021-10-26T22:46:49.427259Z",
          "shell.execute_reply.started": "2021-10-26T22:46:49.414411Z",
          "shell.execute_reply": "2021-10-26T22:46:49.426064Z"
        },
        "trusted": true,
        "id": "IXsVPQ2TNYV6"
      },
      "execution_count": null,
      "outputs": []
    },
    {
      "cell_type": "markdown",
      "source": [
        "## App size column cleaning and analysis"
      ],
      "metadata": {
        "id": "3Yf_l7SDNYV7"
      }
    },
    {
      "cell_type": "code",
      "source": [
        "df_clean['size']"
      ],
      "metadata": {
        "execution": {
          "iopub.status.busy": "2021-10-26T22:46:49.430665Z",
          "iopub.execute_input": "2021-10-26T22:46:49.431401Z",
          "iopub.status.idle": "2021-10-26T22:46:49.444833Z",
          "shell.execute_reply.started": "2021-10-26T22:46:49.431367Z",
          "shell.execute_reply": "2021-10-26T22:46:49.443809Z"
        },
        "trusted": true,
        "id": "70Yhpc5XNYV7"
      },
      "execution_count": null,
      "outputs": []
    },
    {
      "cell_type": "markdown",
      "source": [
        "We can see that different apps sizes have 'M' which stands for MB (Megabytes).<br>\n",
        "Moreover, there is also a size 'Varies with device', we will now investigate using regex if there are other non-numerical sizes."
      ],
      "metadata": {
        "id": "hG76lUJjNYV7"
      }
    },
    {
      "cell_type": "code",
      "source": [
        "df_clean[~df_clean['size'].str.contains('M', regex= True, na=False)].head()"
      ],
      "metadata": {
        "execution": {
          "iopub.status.busy": "2021-10-26T22:46:49.446651Z",
          "iopub.execute_input": "2021-10-26T22:46:49.447463Z",
          "iopub.status.idle": "2021-10-26T22:46:49.478905Z",
          "shell.execute_reply.started": "2021-10-26T22:46:49.447236Z",
          "shell.execute_reply": "2021-10-26T22:46:49.478128Z"
        },
        "trusted": true,
        "id": "CiofI-RlNYV8"
      },
      "execution_count": null,
      "outputs": []
    },
    {
      "cell_type": "markdown",
      "source": [
        "We can see that different entries have 'Varies with device' as size. Moreover, some apps have a size in KB (labeled as 'k')."
      ],
      "metadata": {
        "id": "QTYmaTpANYV8"
      }
    },
    {
      "cell_type": "markdown",
      "source": [
        "We will now check if there are other strings or characters besides k, M and 'Varies with device'."
      ],
      "metadata": {
        "id": "8kehmZvlNYV8"
      }
    },
    {
      "cell_type": "code",
      "source": [
        "df_clean[~df_clean['size'].str.contains('[k,M,Varies with device]$', regex= True, na=False)].head()"
      ],
      "metadata": {
        "execution": {
          "iopub.status.busy": "2021-10-26T22:46:49.48062Z",
          "iopub.execute_input": "2021-10-26T22:46:49.481065Z",
          "iopub.status.idle": "2021-10-26T22:46:49.505048Z",
          "shell.execute_reply.started": "2021-10-26T22:46:49.481017Z",
          "shell.execute_reply": "2021-10-26T22:46:49.503896Z"
        },
        "trusted": true,
        "id": "Ll8kMZqRNYV9"
      },
      "execution_count": null,
      "outputs": []
    },
    {
      "cell_type": "markdown",
      "source": [
        "OK, the sizes are either in KB (k), MB(M) or Varies with device"
      ],
      "metadata": {
        "id": "yuuFiwh3NYV9"
      }
    },
    {
      "cell_type": "markdown",
      "source": [
        "First, we will label the the size values that corresponds to Varies with device with 'NaN'"
      ],
      "metadata": {
        "id": "i0MVVBgMNYV-"
      }
    },
    {
      "cell_type": "code",
      "source": [
        "df_clean['size'] = df_clean['size'].replace('Varies with device', 'NaN', regex=True)"
      ],
      "metadata": {
        "execution": {
          "iopub.status.busy": "2021-10-26T22:46:49.506394Z",
          "iopub.execute_input": "2021-10-26T22:46:49.506655Z",
          "iopub.status.idle": "2021-10-26T22:46:49.533136Z",
          "shell.execute_reply.started": "2021-10-26T22:46:49.506624Z",
          "shell.execute_reply": "2021-10-26T22:46:49.531545Z"
        },
        "trusted": true,
        "id": "y0R1KBpUNYV-"
      },
      "execution_count": null,
      "outputs": []
    },
    {
      "cell_type": "code",
      "source": [
        "df_clean['size']"
      ],
      "metadata": {
        "execution": {
          "iopub.status.busy": "2021-10-26T22:46:49.534797Z",
          "iopub.execute_input": "2021-10-26T22:46:49.535348Z",
          "iopub.status.idle": "2021-10-26T22:46:49.544697Z",
          "shell.execute_reply.started": "2021-10-26T22:46:49.535298Z",
          "shell.execute_reply": "2021-10-26T22:46:49.543753Z"
        },
        "trusted": true,
        "id": "OCXj5VxsNYV-"
      },
      "execution_count": null,
      "outputs": []
    },
    {
      "cell_type": "markdown",
      "source": [
        "Now, we will convert the sizes to MB.\n",
        "\n"
      ],
      "metadata": {
        "id": "PHRqj-oINYV-"
      }
    },
    {
      "cell_type": "code",
      "source": [
        "size =[]\n",
        "\n",
        "for i in df_clean['size']:\n",
        "    if i == 'NaN':\n",
        "        size.append('NaN')\n",
        "    elif i[-1] == 'k':\n",
        "        size.append(float(i[:-1])/1000)\n",
        "    else:\n",
        "        size.append(float(i[:-1]))"
      ],
      "metadata": {
        "execution": {
          "iopub.status.busy": "2021-10-26T22:46:49.546293Z",
          "iopub.execute_input": "2021-10-26T22:46:49.547222Z",
          "iopub.status.idle": "2021-10-26T22:46:49.563163Z",
          "shell.execute_reply.started": "2021-10-26T22:46:49.547151Z",
          "shell.execute_reply": "2021-10-26T22:46:49.562027Z"
        },
        "trusted": true,
        "id": "OYpADqVZNYV_"
      },
      "execution_count": null,
      "outputs": []
    },
    {
      "cell_type": "code",
      "source": [
        "df_clean['size'] = size\n",
        "df_clean['size'] = df_clean['size'].astype(float)\n",
        "df_clean.rename(columns={df_clean.columns[4]:'size(MB)'}, inplace=True)"
      ],
      "metadata": {
        "execution": {
          "iopub.status.busy": "2021-10-26T22:46:49.565101Z",
          "iopub.execute_input": "2021-10-26T22:46:49.565775Z",
          "iopub.status.idle": "2021-10-26T22:46:49.577626Z",
          "shell.execute_reply.started": "2021-10-26T22:46:49.565698Z",
          "shell.execute_reply": "2021-10-26T22:46:49.576877Z"
        },
        "trusted": true,
        "id": "kycphDi9NYV_"
      },
      "execution_count": null,
      "outputs": []
    },
    {
      "cell_type": "code",
      "source": [
        "df_clean.head()"
      ],
      "metadata": {
        "execution": {
          "iopub.status.busy": "2021-10-26T22:46:49.579485Z",
          "iopub.execute_input": "2021-10-26T22:46:49.580111Z",
          "iopub.status.idle": "2021-10-26T22:46:49.608697Z",
          "shell.execute_reply.started": "2021-10-26T22:46:49.580062Z",
          "shell.execute_reply": "2021-10-26T22:46:49.60782Z"
        },
        "trusted": true,
        "id": "AjMhNUmRNYV_"
      },
      "execution_count": null,
      "outputs": []
    },
    {
      "cell_type": "code",
      "source": [
        "num_plots(df_clean,'size(MB)','App Size distribution','Size (MB)')"
      ],
      "metadata": {
        "execution": {
          "iopub.status.busy": "2021-10-26T22:46:49.610019Z",
          "iopub.execute_input": "2021-10-26T22:46:49.611005Z",
          "iopub.status.idle": "2021-10-26T22:46:50.308455Z",
          "shell.execute_reply.started": "2021-10-26T22:46:49.610946Z",
          "shell.execute_reply": "2021-10-26T22:46:50.30744Z"
        },
        "trusted": true,
        "id": "5Z-zdYKQNYV_"
      },
      "execution_count": null,
      "outputs": []
    },
    {
      "cell_type": "markdown",
      "source": [
        "The distribution of app size is a right skewed long tail."
      ],
      "metadata": {
        "id": "1LBQ_emlNYWA"
      }
    },
    {
      "cell_type": "markdown",
      "source": [
        "Mean, Median and Mode can be computed as follows:"
      ],
      "metadata": {
        "id": "WIUek2LNNYWA"
      }
    },
    {
      "cell_type": "code",
      "source": [
        "print('Average app size is: ', df_clean['size(MB)'].mean())\n",
        "print('Median app size is: ', df_clean['size(MB)'].median())\n",
        "print('Mode app size is: ', df_clean['size(MB)'].mode()[0])"
      ],
      "metadata": {
        "execution": {
          "iopub.status.busy": "2021-10-26T22:46:50.30962Z",
          "iopub.execute_input": "2021-10-26T22:46:50.309897Z",
          "iopub.status.idle": "2021-10-26T22:46:50.318987Z",
          "shell.execute_reply.started": "2021-10-26T22:46:50.309865Z",
          "shell.execute_reply": "2021-10-26T22:46:50.317861Z"
        },
        "trusted": true,
        "id": "8e45vt6sNYWA"
      },
      "execution_count": null,
      "outputs": []
    },
    {
      "cell_type": "markdown",
      "source": [
        "Most of the apps have size lower than 20, and some apps have sizes around 100MB!"
      ],
      "metadata": {
        "id": "_kzqulbdNYWA"
      }
    },
    {
      "cell_type": "markdown",
      "source": [
        "## App Rating analysis"
      ],
      "metadata": {
        "id": "23YgibcONYWA"
      }
    },
    {
      "cell_type": "code",
      "source": [
        "num_plots(df_clean,'rating','App rating distribution','Rating')"
      ],
      "metadata": {
        "execution": {
          "iopub.status.busy": "2021-10-26T22:46:50.320286Z",
          "iopub.execute_input": "2021-10-26T22:46:50.320638Z",
          "iopub.status.idle": "2021-10-26T22:46:50.949225Z",
          "shell.execute_reply.started": "2021-10-26T22:46:50.32059Z",
          "shell.execute_reply": "2021-10-26T22:46:50.948224Z"
        },
        "trusted": true,
        "id": "9GG0GbuzNYWB"
      },
      "execution_count": null,
      "outputs": []
    },
    {
      "cell_type": "code",
      "source": [
        "print('Average app rating is: ', df_clean['rating'].mean())\n",
        "print('Median app rating is: ', df_clean['rating'].median())\n",
        "print('Mode app rating is: ', df_clean['rating'].mode()[0])"
      ],
      "metadata": {
        "execution": {
          "iopub.status.busy": "2021-10-26T22:46:50.950542Z",
          "iopub.execute_input": "2021-10-26T22:46:50.950789Z",
          "iopub.status.idle": "2021-10-26T22:46:50.958959Z",
          "shell.execute_reply.started": "2021-10-26T22:46:50.950761Z",
          "shell.execute_reply": "2021-10-26T22:46:50.957992Z"
        },
        "trusted": true,
        "id": "eFuI6viGNYWB"
      },
      "execution_count": null,
      "outputs": []
    },
    {
      "cell_type": "markdown",
      "source": [
        "Most of the apps have rating around 4.2. We can also see that some apps have 1 star rating, which are those apps?"
      ],
      "metadata": {
        "id": "FksJBC1iNYWB"
      }
    },
    {
      "cell_type": "code",
      "source": [
        "df_clean[df_clean['rating'] <= 1.0]"
      ],
      "metadata": {
        "execution": {
          "iopub.status.busy": "2021-10-26T22:46:50.960333Z",
          "iopub.execute_input": "2021-10-26T22:46:50.96063Z",
          "iopub.status.idle": "2021-10-26T22:46:50.995888Z",
          "shell.execute_reply.started": "2021-10-26T22:46:50.960597Z",
          "shell.execute_reply": "2021-10-26T22:46:50.994693Z"
        },
        "trusted": true,
        "id": "4StdqptoNYWB"
      },
      "execution_count": null,
      "outputs": []
    },
    {
      "cell_type": "code",
      "source": [
        "print('Apps with rating equal or lower than 1 star: ',len(df_clean[df_clean['rating'] <= 1.0]))"
      ],
      "metadata": {
        "execution": {
          "iopub.status.busy": "2021-10-26T22:46:50.998047Z",
          "iopub.execute_input": "2021-10-26T22:46:50.9984Z",
          "iopub.status.idle": "2021-10-26T22:46:51.005802Z",
          "shell.execute_reply.started": "2021-10-26T22:46:50.998355Z",
          "shell.execute_reply": "2021-10-26T22:46:51.005097Z"
        },
        "trusted": true,
        "id": "INLCJcv9NYWB"
      },
      "execution_count": null,
      "outputs": []
    },
    {
      "cell_type": "markdown",
      "source": [
        "## App price analysis"
      ],
      "metadata": {
        "id": "4KT-ZDodNYWC"
      }
    },
    {
      "cell_type": "code",
      "source": [
        "df_clean['price'].isnull().sum()"
      ],
      "metadata": {
        "execution": {
          "iopub.status.busy": "2021-10-26T22:46:51.00692Z",
          "iopub.execute_input": "2021-10-26T22:46:51.007169Z",
          "iopub.status.idle": "2021-10-26T22:46:51.022078Z",
          "shell.execute_reply.started": "2021-10-26T22:46:51.007139Z",
          "shell.execute_reply": "2021-10-26T22:46:51.021194Z"
        },
        "trusted": true,
        "id": "cdZognrANYWC"
      },
      "execution_count": null,
      "outputs": []
    },
    {
      "cell_type": "markdown",
      "source": [
        "There are no missing values in the price column"
      ],
      "metadata": {
        "id": "g14uWGWeNYWC"
      }
    },
    {
      "cell_type": "code",
      "source": [
        "df_clean['price'] = df_clean['price'].str.replace('$','').astype(float)"
      ],
      "metadata": {
        "execution": {
          "iopub.status.busy": "2021-10-26T22:46:51.023177Z",
          "iopub.execute_input": "2021-10-26T22:46:51.023407Z",
          "iopub.status.idle": "2021-10-26T22:46:51.043939Z",
          "shell.execute_reply.started": "2021-10-26T22:46:51.023381Z",
          "shell.execute_reply": "2021-10-26T22:46:51.042694Z"
        },
        "trusted": true,
        "id": "Zs1aMkdONYWC"
      },
      "execution_count": null,
      "outputs": []
    },
    {
      "cell_type": "code",
      "source": [
        "df_clean['price'].value_counts()"
      ],
      "metadata": {
        "execution": {
          "iopub.status.busy": "2021-10-26T22:46:51.04522Z",
          "iopub.execute_input": "2021-10-26T22:46:51.045485Z",
          "iopub.status.idle": "2021-10-26T22:46:51.060836Z",
          "shell.execute_reply.started": "2021-10-26T22:46:51.045452Z",
          "shell.execute_reply": "2021-10-26T22:46:51.059942Z"
        },
        "trusted": true,
        "id": "DALFmXQ9NYWC"
      },
      "execution_count": null,
      "outputs": []
    },
    {
      "cell_type": "markdown",
      "source": [
        "We can see that most of the apps are free!<br>"
      ],
      "metadata": {
        "id": "r_wx4jIfNYWC"
      }
    },
    {
      "cell_type": "code",
      "source": [
        "print('Free apps are {}% of the total apps in the dataset'.format(np.round(len(df_clean[df_clean['price']==0])*100/len(df_clean)),2))"
      ],
      "metadata": {
        "execution": {
          "iopub.status.busy": "2021-10-26T22:46:51.061924Z",
          "iopub.execute_input": "2021-10-26T22:46:51.062778Z",
          "iopub.status.idle": "2021-10-26T22:46:51.075147Z",
          "shell.execute_reply.started": "2021-10-26T22:46:51.062738Z",
          "shell.execute_reply": "2021-10-26T22:46:51.0738Z"
        },
        "trusted": true,
        "id": "brT9rCgeNYWD"
      },
      "execution_count": null,
      "outputs": []
    },
    {
      "cell_type": "code",
      "source": [
        "num_plots(df_clean,'price','Price Distribution','price')"
      ],
      "metadata": {
        "execution": {
          "iopub.status.busy": "2021-10-26T22:46:51.076868Z",
          "iopub.execute_input": "2021-10-26T22:46:51.077131Z",
          "iopub.status.idle": "2021-10-26T22:46:51.580691Z",
          "shell.execute_reply.started": "2021-10-26T22:46:51.077101Z",
          "shell.execute_reply": "2021-10-26T22:46:51.579621Z"
        },
        "trusted": true,
        "id": "6stWtHzmNYWD"
      },
      "execution_count": null,
      "outputs": []
    },
    {
      "cell_type": "markdown",
      "source": [
        "We can confirm the great majority of free apps in the store. However, there are some apps with a price over 50\\\\$, and some of them even cost 400\\\\$!"
      ],
      "metadata": {
        "id": "xb0LQz3_NYWD"
      }
    },
    {
      "cell_type": "markdown",
      "source": [
        "To better visualize the price distribution, we will separately analyze apps with a price lower than 10\\\\$ and apps with a price higher than 10\\\\$"
      ],
      "metadata": {
        "id": "UvP6OzwQNYWD"
      }
    },
    {
      "cell_type": "code",
      "source": [
        "num_plots(df_clean[(df_clean['price']>0) & (df_clean['price']<10)],'price','Price Distribution of apps between 0-10$','price')"
      ],
      "metadata": {
        "execution": {
          "iopub.status.busy": "2021-10-26T22:46:51.582063Z",
          "iopub.execute_input": "2021-10-26T22:46:51.582355Z",
          "iopub.status.idle": "2021-10-26T22:46:52.07593Z",
          "shell.execute_reply.started": "2021-10-26T22:46:51.582321Z",
          "shell.execute_reply": "2021-10-26T22:46:52.075233Z"
        },
        "trusted": true,
        "id": "3kzYOm8QNYWE"
      },
      "execution_count": null,
      "outputs": []
    },
    {
      "cell_type": "code",
      "source": [
        "num_plots(df_clean[(df_clean['price']>10)],'price','Price Distribution of apps over 10$','price')"
      ],
      "metadata": {
        "execution": {
          "iopub.status.busy": "2021-10-26T22:46:52.077003Z",
          "iopub.execute_input": "2021-10-26T22:46:52.077557Z",
          "iopub.status.idle": "2021-10-26T22:46:52.584775Z",
          "shell.execute_reply.started": "2021-10-26T22:46:52.07752Z",
          "shell.execute_reply": "2021-10-26T22:46:52.583978Z"
        },
        "trusted": true,
        "id": "dorrlYXZNYWE"
      },
      "execution_count": null,
      "outputs": []
    },
    {
      "cell_type": "markdown",
      "source": [
        "There are some apps with a price close to 400$, let's investigate more."
      ],
      "metadata": {
        "id": "vQU3GKsJNYWE"
      }
    },
    {
      "cell_type": "code",
      "source": [
        "df_clean[df_clean['price']>350]"
      ],
      "metadata": {
        "execution": {
          "iopub.status.busy": "2021-10-26T22:46:52.586704Z",
          "iopub.execute_input": "2021-10-26T22:46:52.587079Z",
          "iopub.status.idle": "2021-10-26T22:46:52.614564Z",
          "shell.execute_reply.started": "2021-10-26T22:46:52.587034Z",
          "shell.execute_reply": "2021-10-26T22:46:52.613672Z"
        },
        "trusted": true,
        "id": "RFQ2tBKjNYWE"
      },
      "execution_count": null,
      "outputs": []
    },
    {
      "cell_type": "markdown",
      "source": [
        "It looks like these apps are 'meme apps'. They do not do anything. They just cost a lot of money."
      ],
      "metadata": {
        "id": "RqKi_GLiNYWE"
      }
    },
    {
      "cell_type": "markdown",
      "source": [
        "What about the other apps which cost more than 50\\\\$ but less than 350\\\\$?"
      ],
      "metadata": {
        "id": "yIWWPfuxNYWF"
      }
    },
    {
      "cell_type": "code",
      "source": [
        "df_clean[(df_clean['price']>50) & (df_clean['price']<350)]"
      ],
      "metadata": {
        "execution": {
          "iopub.status.busy": "2021-10-26T22:46:52.615839Z",
          "iopub.execute_input": "2021-10-26T22:46:52.616091Z",
          "iopub.status.idle": "2021-10-26T22:46:52.64451Z",
          "shell.execute_reply.started": "2021-10-26T22:46:52.616062Z",
          "shell.execute_reply": "2021-10-26T22:46:52.643603Z"
        },
        "trusted": true,
        "id": "hZjxIVMeNYWF"
      },
      "execution_count": null,
      "outputs": []
    },
    {
      "cell_type": "markdown",
      "source": [
        "Among these apps, there is still one meme app 'I am rich VIP', while the others looks to be 'serious apps'. However, these apps do not have any reviews or rating."
      ],
      "metadata": {
        "id": "0zQTZ_18NYWF"
      }
    },
    {
      "cell_type": "code",
      "source": [
        "print('Number of apps with price higher than 50$: ', len(df_clean.loc[df_clean['price']>50]))"
      ],
      "metadata": {
        "execution": {
          "iopub.status.busy": "2021-10-26T22:46:52.652973Z",
          "iopub.execute_input": "2021-10-26T22:46:52.653752Z",
          "iopub.status.idle": "2021-10-26T22:46:52.661478Z",
          "shell.execute_reply.started": "2021-10-26T22:46:52.65369Z",
          "shell.execute_reply": "2021-10-26T22:46:52.660523Z"
        },
        "trusted": true,
        "id": "ryvnWGn7NYWF"
      },
      "execution_count": null,
      "outputs": []
    },
    {
      "cell_type": "markdown",
      "source": [
        "We will remove apps with a price over 50 dollars, since there are very few of them and make the distribution of price heavily right skewed: they can be considered as outliers."
      ],
      "metadata": {
        "id": "yJL9vRj8NYWF"
      }
    },
    {
      "cell_type": "code",
      "source": [
        "df_clean = df_clean.loc[df_clean['price'] < 50]"
      ],
      "metadata": {
        "execution": {
          "iopub.status.busy": "2021-10-26T22:46:52.662935Z",
          "iopub.execute_input": "2021-10-26T22:46:52.663225Z",
          "iopub.status.idle": "2021-10-26T22:46:52.676994Z",
          "shell.execute_reply.started": "2021-10-26T22:46:52.663192Z",
          "shell.execute_reply": "2021-10-26T22:46:52.675852Z"
        },
        "trusted": true,
        "id": "xGbuizofNYWF"
      },
      "execution_count": null,
      "outputs": []
    },
    {
      "cell_type": "markdown",
      "source": [
        "What is the distribution of the paid apps?"
      ],
      "metadata": {
        "id": "dUCvJ6u6NYWG"
      }
    },
    {
      "cell_type": "code",
      "source": [
        "num_plots(df_clean.loc[df_clean['price'] > 0],'price','Price Distribution of Paid Apps','price')"
      ],
      "metadata": {
        "execution": {
          "iopub.status.busy": "2021-10-26T22:46:52.678537Z",
          "iopub.execute_input": "2021-10-26T22:46:52.678812Z",
          "iopub.status.idle": "2021-10-26T22:46:53.25286Z",
          "shell.execute_reply.started": "2021-10-26T22:46:52.678777Z",
          "shell.execute_reply": "2021-10-26T22:46:53.251817Z"
        },
        "trusted": true,
        "id": "hhZNr7LXNYWG"
      },
      "execution_count": null,
      "outputs": []
    },
    {
      "cell_type": "markdown",
      "source": [
        "We still have a right skewed distribution, but we can see the median and the IQR in the boxplot now!"
      ],
      "metadata": {
        "id": "s3s9Y4dmNYWG"
      }
    },
    {
      "cell_type": "markdown",
      "source": [
        "By looking at this plot, we decide to only consider apps with a price lower than 20\\\\$. We will drop apps with a price higher than 20\\\\$."
      ],
      "metadata": {
        "execution": {
          "iopub.status.busy": "2021-10-26T22:48:23.460174Z",
          "iopub.execute_input": "2021-10-26T22:48:23.460691Z",
          "iopub.status.idle": "2021-10-26T22:48:23.469531Z",
          "shell.execute_reply.started": "2021-10-26T22:48:23.460641Z",
          "shell.execute_reply": "2021-10-26T22:48:23.468352Z"
        },
        "id": "ZeZ3wMH9NYWG"
      }
    },
    {
      "cell_type": "code",
      "source": [
        "df_clean = df_clean.loc[df_clean['price']<20]"
      ],
      "metadata": {
        "execution": {
          "iopub.status.busy": "2021-10-26T22:49:34.996195Z",
          "iopub.execute_input": "2021-10-26T22:49:34.996549Z",
          "iopub.status.idle": "2021-10-26T22:49:35.004569Z",
          "shell.execute_reply.started": "2021-10-26T22:49:34.99651Z",
          "shell.execute_reply": "2021-10-26T22:49:35.003264Z"
        },
        "trusted": true,
        "id": "YkpCPWMiNYWG"
      },
      "execution_count": null,
      "outputs": []
    },
    {
      "cell_type": "markdown",
      "source": [
        "## App install"
      ],
      "metadata": {
        "id": "NybqbPPKNYWG"
      }
    },
    {
      "cell_type": "code",
      "source": [
        "df_clean['installs']"
      ],
      "metadata": {
        "execution": {
          "iopub.status.busy": "2021-10-26T22:46:53.262845Z",
          "iopub.execute_input": "2021-10-26T22:46:53.263101Z",
          "iopub.status.idle": "2021-10-26T22:46:53.276849Z",
          "shell.execute_reply.started": "2021-10-26T22:46:53.26307Z",
          "shell.execute_reply": "2021-10-26T22:46:53.275972Z"
        },
        "trusted": true,
        "id": "-Ctx0ANPNYWG"
      },
      "execution_count": null,
      "outputs": []
    },
    {
      "cell_type": "markdown",
      "source": [
        "We will remove the '+' from the rows and add it to the feature name!"
      ],
      "metadata": {
        "id": "PnU3hLtiNYWH"
      }
    },
    {
      "cell_type": "code",
      "source": [
        "df_clean['installs'] = df_clean['installs'].str.replace('+','').str.replace(',','').astype(float)"
      ],
      "metadata": {
        "execution": {
          "iopub.status.busy": "2021-10-26T22:46:53.278294Z",
          "iopub.execute_input": "2021-10-26T22:46:53.27854Z",
          "iopub.status.idle": "2021-10-26T22:46:53.310296Z",
          "shell.execute_reply.started": "2021-10-26T22:46:53.278512Z",
          "shell.execute_reply": "2021-10-26T22:46:53.309005Z"
        },
        "trusted": true,
        "id": "gLTRiTFSNYWH"
      },
      "execution_count": null,
      "outputs": []
    },
    {
      "cell_type": "code",
      "source": [
        "df_clean.rename(columns={df_clean.columns[5]:'Installs(+)'}, inplace=True)"
      ],
      "metadata": {
        "execution": {
          "iopub.status.busy": "2021-10-26T22:46:53.312003Z",
          "iopub.execute_input": "2021-10-26T22:46:53.312819Z",
          "iopub.status.idle": "2021-10-26T22:46:53.319794Z",
          "shell.execute_reply.started": "2021-10-26T22:46:53.312772Z",
          "shell.execute_reply": "2021-10-26T22:46:53.318868Z"
        },
        "trusted": true,
        "id": "wZBb0z4VNYWH"
      },
      "execution_count": null,
      "outputs": []
    },
    {
      "cell_type": "code",
      "source": [
        "sns.kdeplot(x='Installs(+)', data=df_clean)"
      ],
      "metadata": {
        "execution": {
          "iopub.status.busy": "2021-10-26T22:46:53.320902Z",
          "iopub.execute_input": "2021-10-26T22:46:53.321777Z",
          "iopub.status.idle": "2021-10-26T22:46:53.61849Z",
          "shell.execute_reply.started": "2021-10-26T22:46:53.321695Z",
          "shell.execute_reply": "2021-10-26T22:46:53.617594Z"
        },
        "trusted": true,
        "id": "jV8RqwYhNYWH"
      },
      "execution_count": null,
      "outputs": []
    },
    {
      "cell_type": "markdown",
      "source": [
        "Most of the apps installs are relative small compared to the maximum, which is around 1e9 (a billion)."
      ],
      "metadata": {
        "id": "yIbSDYj5NYWH"
      }
    },
    {
      "cell_type": "markdown",
      "source": [
        "### Which are the apps with these high numbers of installs?"
      ],
      "metadata": {
        "id": "4wX0xtRzNYWH"
      }
    },
    {
      "cell_type": "code",
      "source": [
        "df_clean[df_clean['Installs(+)']> 0.8e9 ]"
      ],
      "metadata": {
        "execution": {
          "iopub.status.busy": "2021-10-26T22:46:53.619707Z",
          "iopub.execute_input": "2021-10-26T22:46:53.620006Z",
          "iopub.status.idle": "2021-10-26T22:46:53.652907Z",
          "shell.execute_reply.started": "2021-10-26T22:46:53.619972Z",
          "shell.execute_reply": "2021-10-26T22:46:53.652255Z"
        },
        "trusted": true,
        "id": "WD8loYSDNYWI"
      },
      "execution_count": null,
      "outputs": []
    },
    {
      "cell_type": "markdown",
      "source": [
        "The apps with most installs are famous social network apps like Facebook, Instagram and Google apps."
      ],
      "metadata": {
        "id": "28ZIOqlMNYWI"
      }
    },
    {
      "cell_type": "code",
      "source": [
        "sns.boxplot(x='Installs(+)', data=df_clean)"
      ],
      "metadata": {
        "execution": {
          "iopub.status.busy": "2021-10-26T22:46:53.653993Z",
          "iopub.execute_input": "2021-10-26T22:46:53.654332Z",
          "iopub.status.idle": "2021-10-26T22:46:53.865797Z",
          "shell.execute_reply.started": "2021-10-26T22:46:53.654304Z",
          "shell.execute_reply": "2021-10-26T22:46:53.864878Z"
        },
        "trusted": true,
        "id": "jscwZhKSNYWI"
      },
      "execution_count": null,
      "outputs": []
    },
    {
      "cell_type": "markdown",
      "source": [
        "It is becoming difficult to visualize the box fences! We'll define a function to obtain them"
      ],
      "metadata": {
        "id": "UWx5kzKoNYWI"
      }
    },
    {
      "cell_type": "code",
      "source": [
        "def iqr_fence(x):\n",
        "    Q1 = x.quantile(0.25)\n",
        "    Q3 = x.quantile(0.75)\n",
        "    IQR = Q3 - Q1\n",
        "    Lower_Fence = Q1 - (1.5 * IQR)\n",
        "    Upper_Fence = Q3 + (1.5 * IQR)\n",
        "    u = max(x[x<Upper_Fence])\n",
        "    l = min(x[x>Lower_Fence])\n",
        "    return [u,l]"
      ],
      "metadata": {
        "execution": {
          "iopub.status.busy": "2021-10-26T22:46:53.867203Z",
          "iopub.execute_input": "2021-10-26T22:46:53.867435Z",
          "iopub.status.idle": "2021-10-26T22:46:53.873316Z",
          "shell.execute_reply.started": "2021-10-26T22:46:53.867408Z",
          "shell.execute_reply": "2021-10-26T22:46:53.872293Z"
        },
        "trusted": true,
        "id": "K1a4EXZHNYWI"
      },
      "execution_count": null,
      "outputs": []
    },
    {
      "cell_type": "code",
      "source": [
        "upper, lower = iqr_fence(df_clean['Installs(+)'])\n",
        "print('Upper Fence:', upper)\n",
        "print('Lower Fence:', lower)"
      ],
      "metadata": {
        "execution": {
          "iopub.status.busy": "2021-10-26T22:46:53.87534Z",
          "iopub.execute_input": "2021-10-26T22:46:53.875639Z",
          "iopub.status.idle": "2021-10-26T22:46:53.894876Z",
          "shell.execute_reply.started": "2021-10-26T22:46:53.875606Z",
          "shell.execute_reply": "2021-10-26T22:46:53.893832Z"
        },
        "trusted": true,
        "id": "QOEV2-L7NYWJ"
      },
      "execution_count": null,
      "outputs": []
    },
    {
      "cell_type": "markdown",
      "source": [
        "We can see that the lower fence is 0 installs, while the higher fence is 1 million installs."
      ],
      "metadata": {
        "id": "rSAGYV3KNYWJ"
      }
    },
    {
      "cell_type": "code",
      "source": [
        "print('Total apps', len(df_clean))\n",
        "no_installs = [1e9, 1e8, 1e7, 1e6, 1e5, 1e4, 1e3, 1e2, 1e1]\n",
        "for n in no_installs:\n",
        "    print('Number of apps with less than ' + str(n) + ' installs:', len(df_clean.loc[df_clean['Installs(+)']<n]))"
      ],
      "metadata": {
        "execution": {
          "iopub.status.busy": "2021-10-26T22:46:53.896454Z",
          "iopub.execute_input": "2021-10-26T22:46:53.896693Z",
          "iopub.status.idle": "2021-10-26T22:46:53.924043Z",
          "shell.execute_reply.started": "2021-10-26T22:46:53.896666Z",
          "shell.execute_reply": "2021-10-26T22:46:53.923279Z"
        },
        "trusted": true,
        "id": "r4c0JEe9NYWJ"
      },
      "execution_count": null,
      "outputs": []
    },
    {
      "cell_type": "markdown",
      "source": [
        "We can see that there are quite few apps with just 10 or 100 reviews."
      ],
      "metadata": {
        "id": "ZOqpzMIqNYWK"
      }
    },
    {
      "cell_type": "markdown",
      "source": [
        "# Categorical Features Cleaning and Analysis"
      ],
      "metadata": {
        "id": "RepCXqv5NYWK"
      }
    },
    {
      "cell_type": "markdown",
      "source": [
        "## Category analysis"
      ],
      "metadata": {
        "id": "wN7VNGMDNYWK"
      }
    },
    {
      "cell_type": "code",
      "source": [
        "print('In total there are {} different app categories'. format(len(df_clean['category'].value_counts())))"
      ],
      "metadata": {
        "execution": {
          "iopub.status.busy": "2021-10-26T22:46:53.925273Z",
          "iopub.execute_input": "2021-10-26T22:46:53.926204Z",
          "iopub.status.idle": "2021-10-26T22:46:53.934478Z",
          "shell.execute_reply.started": "2021-10-26T22:46:53.926161Z",
          "shell.execute_reply": "2021-10-26T22:46:53.933309Z"
        },
        "trusted": true,
        "id": "_gqVJG9eNYWK"
      },
      "execution_count": null,
      "outputs": []
    },
    {
      "cell_type": "code",
      "source": [
        "plt.subplots(figsize=(13,5))\n",
        "sns.countplot(x='category', data=df_clean, order = df_clean['category'].value_counts().index)\n",
        "plt.xticks(rotation=90);\n",
        "plt.xlabel('')\n",
        "plt.title('App category counts');"
      ],
      "metadata": {
        "execution": {
          "iopub.status.busy": "2021-10-26T22:46:53.936444Z",
          "iopub.execute_input": "2021-10-26T22:46:53.937635Z",
          "iopub.status.idle": "2021-10-26T22:46:54.651602Z",
          "shell.execute_reply.started": "2021-10-26T22:46:53.937567Z",
          "shell.execute_reply": "2021-10-26T22:46:54.650653Z"
        },
        "trusted": true,
        "id": "5dLfG25ENYWK"
      },
      "execution_count": null,
      "outputs": []
    },
    {
      "cell_type": "markdown",
      "source": [
        "The most popular categories are family, game and tools"
      ],
      "metadata": {
        "id": "Z4fxlorbNYWK"
      }
    },
    {
      "cell_type": "markdown",
      "source": [
        "### Is there any difference between the category column and genres?"
      ],
      "metadata": {
        "id": "fByq0qAJNYWL"
      }
    },
    {
      "cell_type": "code",
      "source": [
        "df_clean[['category','genres']]"
      ],
      "metadata": {
        "execution": {
          "iopub.status.busy": "2021-10-26T22:46:54.652997Z",
          "iopub.execute_input": "2021-10-26T22:46:54.653275Z",
          "iopub.status.idle": "2021-10-26T22:46:54.668802Z",
          "shell.execute_reply.started": "2021-10-26T22:46:54.653227Z",
          "shell.execute_reply": "2021-10-26T22:46:54.667743Z"
        },
        "trusted": true,
        "id": "B2vl0PIUNYWL"
      },
      "execution_count": null,
      "outputs": []
    },
    {
      "cell_type": "markdown",
      "source": [
        "It looks like they are slightly different"
      ],
      "metadata": {
        "id": "lZ4cFeznNYWL"
      }
    },
    {
      "cell_type": "markdown",
      "source": [
        "## App type (free or paid)"
      ],
      "metadata": {
        "id": "dUvTnqY5NYWL"
      }
    },
    {
      "cell_type": "code",
      "source": [
        "sns.countplot(x='type', data=df_clean)\n",
        "plt.title('Paid vs Free apps')\n",
        "plt.xlabel('App type')\n",
        "plt.show()"
      ],
      "metadata": {
        "execution": {
          "iopub.status.busy": "2021-10-26T22:46:54.670251Z",
          "iopub.execute_input": "2021-10-26T22:46:54.670495Z",
          "iopub.status.idle": "2021-10-26T22:46:54.855178Z",
          "shell.execute_reply.started": "2021-10-26T22:46:54.670465Z",
          "shell.execute_reply": "2021-10-26T22:46:54.854276Z"
        },
        "trusted": true,
        "id": "qEY2BhiHNYWL"
      },
      "execution_count": null,
      "outputs": []
    },
    {
      "cell_type": "markdown",
      "source": [
        "Most of the apps are free, as we saw during the price column analysis"
      ],
      "metadata": {
        "id": "IoyldJN4NYWL"
      }
    },
    {
      "cell_type": "markdown",
      "source": [
        "## Content rating"
      ],
      "metadata": {
        "id": "sOIE9BCxNYWL"
      }
    },
    {
      "cell_type": "code",
      "source": [
        "sns.countplot(x='content rating', data=df_clean)\n",
        "plt.title('Paid vs Free apps')\n",
        "plt.xticks(rotation=60)\n",
        "plt.show()"
      ],
      "metadata": {
        "execution": {
          "iopub.status.busy": "2021-10-26T22:46:54.856416Z",
          "iopub.execute_input": "2021-10-26T22:46:54.856658Z",
          "iopub.status.idle": "2021-10-26T22:46:55.100468Z",
          "shell.execute_reply.started": "2021-10-26T22:46:54.856629Z",
          "shell.execute_reply": "2021-10-26T22:46:55.099738Z"
        },
        "trusted": true,
        "id": "Vov0MyrENYWM"
      },
      "execution_count": null,
      "outputs": []
    },
    {
      "cell_type": "markdown",
      "source": [
        "Most of the apps are for everyone"
      ],
      "metadata": {
        "id": "kqc9cmf9NYWM"
      }
    },
    {
      "cell_type": "code",
      "source": [
        "fig, ax = plt.subplots(figsize=(8,4))\n",
        "ax=sns.boxplot(x='content rating', y='rating', data=df_clean)\n",
        "ax.set_title('Content rating vs rating')\n",
        "plt.show()"
      ],
      "metadata": {
        "execution": {
          "iopub.status.busy": "2021-10-26T22:46:55.101484Z",
          "iopub.execute_input": "2021-10-26T22:46:55.102217Z",
          "iopub.status.idle": "2021-10-26T22:46:55.416859Z",
          "shell.execute_reply.started": "2021-10-26T22:46:55.102166Z",
          "shell.execute_reply": "2021-10-26T22:46:55.415874Z"
        },
        "trusted": true,
        "id": "G2VSF0PDNYWM"
      },
      "execution_count": null,
      "outputs": []
    },
    {
      "cell_type": "markdown",
      "source": [
        "'Adults only 18+' apps are more dense around 4-4.5 rating, whereas other apps have a higher variance, outliers and have at least some apps with rating=5"
      ],
      "metadata": {
        "id": "rXY8vnHuNYWM"
      }
    },
    {
      "cell_type": "code",
      "source": [
        "fig, ax = plt.subplots(figsize=(8,4))\n",
        "ax=sns.boxplot(x='content rating', y='Installs(+)', hue='type', data=df_clean)\n",
        "ax.set_title('Installs(+) per content rating by type')\n",
        "ax.set_yscale('log')\n",
        "plt.show()"
      ],
      "metadata": {
        "execution": {
          "iopub.status.busy": "2021-10-26T22:46:55.41819Z",
          "iopub.execute_input": "2021-10-26T22:46:55.418456Z",
          "iopub.status.idle": "2021-10-26T22:46:56.102253Z",
          "shell.execute_reply.started": "2021-10-26T22:46:55.418425Z",
          "shell.execute_reply": "2021-10-26T22:46:56.101468Z"
        },
        "trusted": true,
        "id": "hWkzdDuCNYWM"
      },
      "execution_count": null,
      "outputs": []
    },
    {
      "cell_type": "markdown",
      "source": [
        "From this plot we can see that free apps have more installs compared to paid apps and that apps for Everyone10+ have more installs."
      ],
      "metadata": {
        "id": "iEklS1SsNYWM"
      }
    },
    {
      "cell_type": "markdown",
      "source": [
        "## App Genres column analysis"
      ],
      "metadata": {
        "id": "XftFMef-NYWM"
      }
    },
    {
      "cell_type": "code",
      "source": [
        "df_clean['genres'].value_counts()"
      ],
      "metadata": {
        "execution": {
          "iopub.status.busy": "2021-10-26T22:46:56.103343Z",
          "iopub.execute_input": "2021-10-26T22:46:56.103706Z",
          "iopub.status.idle": "2021-10-26T22:46:56.11423Z",
          "shell.execute_reply.started": "2021-10-26T22:46:56.103676Z",
          "shell.execute_reply": "2021-10-26T22:46:56.113204Z"
        },
        "trusted": true,
        "id": "9b_uZnINNYWN"
      },
      "execution_count": null,
      "outputs": []
    },
    {
      "cell_type": "markdown",
      "source": [
        "It looks like there are some apps with multiple genres as well."
      ],
      "metadata": {
        "id": "cS98HHGiNYWN"
      }
    },
    {
      "cell_type": "code",
      "source": [
        "sns.heatmap(df_clean.corr(), annot=True, cmap='Blues')\n",
        "plt.title('Correlation Matrix')\n",
        "plt.show()"
      ],
      "metadata": {
        "execution": {
          "iopub.status.busy": "2021-10-26T22:46:56.115669Z",
          "iopub.execute_input": "2021-10-26T22:46:56.116009Z",
          "iopub.status.idle": "2021-10-26T22:46:56.457513Z",
          "shell.execute_reply.started": "2021-10-26T22:46:56.115967Z",
          "shell.execute_reply": "2021-10-26T22:46:56.456365Z"
        },
        "trusted": true,
        "id": "yFpP4cDcNYWN"
      },
      "execution_count": null,
      "outputs": []
    },
    {
      "cell_type": "markdown",
      "source": [
        "There is a quite high positive correlation between installs and reviews. This means that apps with higher reviews have more installs."
      ],
      "metadata": {
        "id": "MPejqFGFNYWN"
      }
    },
    {
      "cell_type": "markdown",
      "source": [
        "## Last updated"
      ],
      "metadata": {
        "id": "Qbh85QFJNYWN"
      }
    },
    {
      "cell_type": "code",
      "source": [
        "df_clean['last updated']=pd.to_datetime(df_clean['last updated'])"
      ],
      "metadata": {
        "execution": {
          "iopub.status.busy": "2021-10-26T22:46:56.45931Z",
          "iopub.execute_input": "2021-10-26T22:46:56.459641Z",
          "iopub.status.idle": "2021-10-26T22:46:56.621891Z",
          "shell.execute_reply.started": "2021-10-26T22:46:56.459598Z",
          "shell.execute_reply": "2021-10-26T22:46:56.620946Z"
        },
        "trusted": true,
        "id": "yIMqaUpVNYWN"
      },
      "execution_count": null,
      "outputs": []
    },
    {
      "cell_type": "code",
      "source": [
        "plt.figure(figsize=(10,4))\n",
        "sns.histplot(x='last updated', data=df_clean)\n",
        "plt.show()"
      ],
      "metadata": {
        "execution": {
          "iopub.status.busy": "2021-10-26T22:46:56.623708Z",
          "iopub.execute_input": "2021-10-26T22:46:56.624049Z",
          "iopub.status.idle": "2021-10-26T22:46:57.092631Z",
          "shell.execute_reply.started": "2021-10-26T22:46:56.624006Z",
          "shell.execute_reply": "2021-10-26T22:46:57.091396Z"
        },
        "trusted": true,
        "id": "zqcU6qjZNYWN"
      },
      "execution_count": null,
      "outputs": []
    },
    {
      "cell_type": "markdown",
      "source": [
        "Most apps have been recently updated recently (wrt dataset publication). There are also apps that have been last updated before 2014.<br>\n",
        "Moreover, we extract the year from this feature, since it could be interesting to analyze."
      ],
      "metadata": {
        "id": "poZIPTfDNYWO"
      }
    },
    {
      "cell_type": "code",
      "source": [
        "df_clean['last_up_year']=df_clean['last updated'].dt.year"
      ],
      "metadata": {
        "execution": {
          "iopub.status.busy": "2021-10-26T22:46:57.094104Z",
          "iopub.execute_input": "2021-10-26T22:46:57.094453Z",
          "iopub.status.idle": "2021-10-26T22:46:57.102802Z",
          "shell.execute_reply.started": "2021-10-26T22:46:57.094407Z",
          "shell.execute_reply": "2021-10-26T22:46:57.101683Z"
        },
        "trusted": true,
        "id": "_fIAWTcgNYWO"
      },
      "execution_count": null,
      "outputs": []
    },
    {
      "cell_type": "code",
      "source": [
        "plt.figure(figsize=(10,4))\n",
        "sns.histplot(x='last_up_year', data=df_clean)\n",
        "plt.show()"
      ],
      "metadata": {
        "execution": {
          "iopub.status.busy": "2021-10-26T22:46:57.104446Z",
          "iopub.execute_input": "2021-10-26T22:46:57.104953Z",
          "iopub.status.idle": "2021-10-26T22:46:57.683829Z",
          "shell.execute_reply.started": "2021-10-26T22:46:57.104905Z",
          "shell.execute_reply": "2021-10-26T22:46:57.682864Z"
        },
        "trusted": true,
        "id": "1CkhYbybNYWO"
      },
      "execution_count": null,
      "outputs": []
    },
    {
      "cell_type": "markdown",
      "source": [
        "We can better visualize the situation here. We can see that the great majority of apps have been updated recently (2018)."
      ],
      "metadata": {
        "id": "RlhgZpFfNYWO"
      }
    },
    {
      "cell_type": "markdown",
      "source": [
        "## Current version column analysis"
      ],
      "metadata": {
        "id": "ygVIKXVANYWO"
      }
    },
    {
      "cell_type": "code",
      "source": [
        "df_clean['current ver']"
      ],
      "metadata": {
        "execution": {
          "iopub.status.busy": "2021-10-26T22:46:57.685374Z",
          "iopub.execute_input": "2021-10-26T22:46:57.68577Z",
          "iopub.status.idle": "2021-10-26T22:46:57.694812Z",
          "shell.execute_reply.started": "2021-10-26T22:46:57.685696Z",
          "shell.execute_reply": "2021-10-26T22:46:57.69387Z"
        },
        "trusted": true,
        "id": "WyS0VnAYNYWO"
      },
      "execution_count": null,
      "outputs": []
    },
    {
      "cell_type": "code",
      "source": [
        "df_clean['current ver'] = df_clean['current ver'].replace('Varies with device', 'NaN', regex=True)"
      ],
      "metadata": {
        "execution": {
          "iopub.status.busy": "2021-10-26T22:46:57.696Z",
          "iopub.execute_input": "2021-10-26T22:46:57.696247Z",
          "iopub.status.idle": "2021-10-26T22:46:57.729108Z",
          "shell.execute_reply.started": "2021-10-26T22:46:57.696218Z",
          "shell.execute_reply": "2021-10-26T22:46:57.728079Z"
        },
        "trusted": true,
        "id": "WbbT-eoTNYWP"
      },
      "execution_count": null,
      "outputs": []
    },
    {
      "cell_type": "code",
      "source": [
        "df_clean['current ver'].value_counts()"
      ],
      "metadata": {
        "execution": {
          "iopub.status.busy": "2021-10-26T22:46:57.730503Z",
          "iopub.execute_input": "2021-10-26T22:46:57.731495Z",
          "iopub.status.idle": "2021-10-26T22:46:57.744113Z",
          "shell.execute_reply.started": "2021-10-26T22:46:57.731444Z",
          "shell.execute_reply": "2021-10-26T22:46:57.743389Z"
        },
        "trusted": true,
        "id": "OLFs-3IFNYWP"
      },
      "execution_count": null,
      "outputs": []
    },
    {
      "cell_type": "markdown",
      "source": [
        "There are a lot of possible current versions among the apps in the store.<br>\n",
        "To simplify the further analysis, we will approximate the current version with just the first number of the version."
      ],
      "metadata": {
        "id": "f1rY8zGUNYWP"
      }
    },
    {
      "cell_type": "code",
      "source": [
        "df_clean['current vers']=df_clean['current ver'].str.extract(r'^(\\d+).', ).astype(float)"
      ],
      "metadata": {
        "execution": {
          "iopub.status.busy": "2021-10-26T22:46:57.745089Z",
          "iopub.execute_input": "2021-10-26T22:46:57.745479Z",
          "iopub.status.idle": "2021-10-26T22:46:57.77556Z",
          "shell.execute_reply.started": "2021-10-26T22:46:57.745443Z",
          "shell.execute_reply": "2021-10-26T22:46:57.774318Z"
        },
        "trusted": true,
        "id": "eKSBi9N7NYWP"
      },
      "execution_count": null,
      "outputs": []
    },
    {
      "cell_type": "code",
      "source": [
        "df_clean['current vers'].value_counts()"
      ],
      "metadata": {
        "execution": {
          "iopub.status.busy": "2021-10-26T22:46:57.777311Z",
          "iopub.execute_input": "2021-10-26T22:46:57.777908Z",
          "iopub.status.idle": "2021-10-26T22:46:57.790436Z",
          "shell.execute_reply.started": "2021-10-26T22:46:57.777859Z",
          "shell.execute_reply": "2021-10-26T22:46:57.78979Z"
        },
        "trusted": true,
        "id": "Q4QG9M5CNYWQ"
      },
      "execution_count": null,
      "outputs": []
    },
    {
      "cell_type": "markdown",
      "source": [
        "It looks like some apps have very high numbers as the version first number... this sounds weird, probably the authors did this a joke."
      ],
      "metadata": {
        "id": "eH3hrk1WNYWQ"
      }
    },
    {
      "cell_type": "code",
      "source": [
        "sns.boxplot(x='current vers', data=df_clean.loc[df_clean['current vers']<100])\n",
        "plt.show()"
      ],
      "metadata": {
        "execution": {
          "iopub.status.busy": "2021-10-26T22:46:57.791453Z",
          "iopub.execute_input": "2021-10-26T22:46:57.792061Z",
          "iopub.status.idle": "2021-10-26T22:46:57.917195Z",
          "shell.execute_reply.started": "2021-10-26T22:46:57.792029Z",
          "shell.execute_reply": "2021-10-26T22:46:57.916596Z"
        },
        "trusted": true,
        "id": "vzWVt-H9NYWQ"
      },
      "execution_count": null,
      "outputs": []
    },
    {
      "cell_type": "markdown",
      "source": [
        "We can see that by considering only apps with a version number lower than 100, we already have lots of outliers."
      ],
      "metadata": {
        "id": "C0tBWRcLNYWQ"
      }
    },
    {
      "cell_type": "code",
      "source": [
        "sns.boxplot(x='current vers', data=df_clean.loc[df_clean['current vers']<10])\n",
        "plt.show()"
      ],
      "metadata": {
        "execution": {
          "iopub.status.busy": "2021-10-26T22:46:57.918261Z",
          "iopub.execute_input": "2021-10-26T22:46:57.918592Z",
          "iopub.status.idle": "2021-10-26T22:46:58.102936Z",
          "shell.execute_reply.started": "2021-10-26T22:46:57.918565Z",
          "shell.execute_reply": "2021-10-26T22:46:58.101994Z"
        },
        "trusted": true,
        "id": "1l1vi2kANYWQ"
      },
      "execution_count": null,
      "outputs": []
    },
    {
      "cell_type": "markdown",
      "source": [
        "By considering only apps with version lower than 10 we can start understanding the version feature distribution"
      ],
      "metadata": {
        "id": "ZhmMPB4PNYWR"
      }
    },
    {
      "cell_type": "code",
      "source": [
        "print('Total apps', len(df_clean))\n",
        "print('Number of apps with current version lower than 1000:', len(df_clean.loc[df_clean['current vers']<1000]))\n",
        "print('Number of apps with current version lower than 100:', len(df_clean.loc[df_clean['current vers']<100]))\n",
        "print('Number of apps with current version lower than 10:', len(df_clean.loc[df_clean['current vers']<10]))\n",
        "print('Number of apps with current version lower than 6:', len(df_clean.loc[df_clean['current vers']<6]))"
      ],
      "metadata": {
        "execution": {
          "iopub.status.busy": "2021-10-26T22:46:58.104139Z",
          "iopub.execute_input": "2021-10-26T22:46:58.104926Z",
          "iopub.status.idle": "2021-10-26T22:46:58.121917Z",
          "shell.execute_reply.started": "2021-10-26T22:46:58.104887Z",
          "shell.execute_reply": "2021-10-26T22:46:58.121043Z"
        },
        "trusted": true,
        "id": "SVZ6SEQgNYWR"
      },
      "execution_count": null,
      "outputs": []
    },
    {
      "cell_type": "markdown",
      "source": [
        "According to the boxplot, we could consider apps with a version higher than 6 as outliers."
      ],
      "metadata": {
        "id": "1Ms5TmqoNYWR"
      }
    },
    {
      "cell_type": "markdown",
      "source": [
        "We drop the categorical 'current ver' column, and we consider only apps with a current version lower than 6."
      ],
      "metadata": {
        "id": "8HXuCl9sNYWR"
      }
    },
    {
      "cell_type": "code",
      "source": [
        "df_clean=df_clean.drop('current ver', axis=1)"
      ],
      "metadata": {
        "execution": {
          "iopub.status.busy": "2021-10-26T22:46:58.123338Z",
          "iopub.execute_input": "2021-10-26T22:46:58.123831Z",
          "iopub.status.idle": "2021-10-26T22:46:58.129715Z",
          "shell.execute_reply.started": "2021-10-26T22:46:58.123794Z",
          "shell.execute_reply": "2021-10-26T22:46:58.129119Z"
        },
        "trusted": true,
        "id": "gD8S7_KXNYWR"
      },
      "execution_count": null,
      "outputs": []
    },
    {
      "cell_type": "code",
      "source": [
        "df_clean=df_clean.loc[df_clean['current vers']<6]"
      ],
      "metadata": {
        "execution": {
          "iopub.status.busy": "2021-10-26T22:46:58.130946Z",
          "iopub.execute_input": "2021-10-26T22:46:58.131192Z",
          "iopub.status.idle": "2021-10-26T22:46:58.146076Z",
          "shell.execute_reply.started": "2021-10-26T22:46:58.131165Z",
          "shell.execute_reply": "2021-10-26T22:46:58.145211Z"
        },
        "trusted": true,
        "id": "aQcDfaJmNYWR"
      },
      "execution_count": null,
      "outputs": []
    },
    {
      "cell_type": "markdown",
      "source": [
        "## Android version"
      ],
      "metadata": {
        "id": "BN0lU-dMNYWR"
      }
    },
    {
      "cell_type": "code",
      "source": [
        "df_clean['android ver']"
      ],
      "metadata": {
        "execution": {
          "iopub.status.busy": "2021-10-26T22:46:58.147447Z",
          "iopub.execute_input": "2021-10-26T22:46:58.148111Z",
          "iopub.status.idle": "2021-10-26T22:46:58.16165Z",
          "shell.execute_reply.started": "2021-10-26T22:46:58.148075Z",
          "shell.execute_reply": "2021-10-26T22:46:58.160774Z"
        },
        "trusted": true,
        "id": "x7wEMd42NYWS"
      },
      "execution_count": null,
      "outputs": []
    },
    {
      "cell_type": "markdown",
      "source": [
        "We will remove 'and up' from every rows."
      ],
      "metadata": {
        "id": "OsR6G6XONYWS"
      }
    },
    {
      "cell_type": "code",
      "source": [
        "df_clean['android vers']=df_clean['android ver'].replace('and up', '', regex=True)"
      ],
      "metadata": {
        "execution": {
          "iopub.status.busy": "2021-10-26T22:46:58.163408Z",
          "iopub.execute_input": "2021-10-26T22:46:58.163681Z",
          "iopub.status.idle": "2021-10-26T22:46:58.190248Z",
          "shell.execute_reply.started": "2021-10-26T22:46:58.16365Z",
          "shell.execute_reply": "2021-10-26T22:46:58.189207Z"
        },
        "trusted": true,
        "id": "JJcY-VVTNYWS"
      },
      "execution_count": null,
      "outputs": []
    },
    {
      "cell_type": "code",
      "source": [
        "df_clean.drop('android ver', axis=1,inplace=True)"
      ],
      "metadata": {
        "execution": {
          "iopub.status.busy": "2021-10-26T22:46:58.191895Z",
          "iopub.execute_input": "2021-10-26T22:46:58.192947Z",
          "iopub.status.idle": "2021-10-26T22:46:58.202945Z",
          "shell.execute_reply.started": "2021-10-26T22:46:58.192888Z",
          "shell.execute_reply": "2021-10-26T22:46:58.201747Z"
        },
        "trusted": true,
        "id": "JTtcK7VwNYWS"
      },
      "execution_count": null,
      "outputs": []
    },
    {
      "cell_type": "code",
      "source": [
        "df_clean['android vers'].value_counts()"
      ],
      "metadata": {
        "execution": {
          "iopub.status.busy": "2021-10-26T22:46:58.204743Z",
          "iopub.execute_input": "2021-10-26T22:46:58.20535Z",
          "iopub.status.idle": "2021-10-26T22:46:58.220588Z",
          "shell.execute_reply.started": "2021-10-26T22:46:58.2053Z",
          "shell.execute_reply": "2021-10-26T22:46:58.219821Z"
        },
        "trusted": true,
        "id": "f4l-68tNNYWS"
      },
      "execution_count": null,
      "outputs": []
    },
    {
      "cell_type": "markdown",
      "source": [
        "We can see that we still need to do some cleaning on this column.\n",
        "In particular we will remove 'varies with device', the 'w' which appears in 4.4w and remove the few data where the android version compatible is within a range such as '5.0 - 7.1.1 '."
      ],
      "metadata": {
        "id": "UuvIrv0LNYWS"
      }
    },
    {
      "cell_type": "code",
      "source": [
        "df_clean['android vers']=df_clean['android vers'].replace('Varies with device', '', regex=True).replace('W', '', regex=True).replace('', np.nan)\n",
        "df_clean=df_clean.loc[df_clean['android vers'].str.contains(r'-') == False]"
      ],
      "metadata": {
        "execution": {
          "iopub.status.busy": "2021-10-26T22:46:58.223401Z",
          "iopub.execute_input": "2021-10-26T22:46:58.223683Z",
          "iopub.status.idle": "2021-10-26T22:46:58.269516Z",
          "shell.execute_reply.started": "2021-10-26T22:46:58.223654Z",
          "shell.execute_reply": "2021-10-26T22:46:58.268733Z"
        },
        "trusted": true,
        "id": "zpZFCecvNYWS"
      },
      "execution_count": null,
      "outputs": []
    },
    {
      "cell_type": "code",
      "source": [
        "df_clean['android vers']=df_clean['android vers'].str.strip()"
      ],
      "metadata": {
        "execution": {
          "iopub.status.busy": "2021-10-26T22:46:58.270653Z",
          "iopub.execute_input": "2021-10-26T22:46:58.271419Z",
          "iopub.status.idle": "2021-10-26T22:46:58.284057Z",
          "shell.execute_reply.started": "2021-10-26T22:46:58.27138Z",
          "shell.execute_reply": "2021-10-26T22:46:58.282824Z"
        },
        "trusted": true,
        "id": "DsLGBq_MNYWS"
      },
      "execution_count": null,
      "outputs": []
    },
    {
      "cell_type": "code",
      "source": [
        "df_clean['android vers'].value_counts()"
      ],
      "metadata": {
        "execution": {
          "iopub.status.busy": "2021-10-26T22:46:58.285935Z",
          "iopub.execute_input": "2021-10-26T22:46:58.28652Z",
          "iopub.status.idle": "2021-10-26T22:46:58.304266Z",
          "shell.execute_reply.started": "2021-10-26T22:46:58.286464Z",
          "shell.execute_reply": "2021-10-26T22:46:58.302884Z"
        },
        "trusted": true,
        "id": "k5lIfy1RNYWT"
      },
      "execution_count": null,
      "outputs": []
    },
    {
      "cell_type": "markdown",
      "source": [
        "We can subsitute subversions such as 4.0.3, 2.3.3 and 2.0.1 with 4.0, 2.3 and 2.0 respecitvely."
      ],
      "metadata": {
        "id": "WEBdkOXPNYWT"
      }
    },
    {
      "cell_type": "code",
      "source": [
        "df_clean['android vers'] = df_clean['android vers'].apply(lambda x: x[:3])"
      ],
      "metadata": {
        "execution": {
          "iopub.status.busy": "2021-10-26T22:46:58.305751Z",
          "iopub.execute_input": "2021-10-26T22:46:58.306117Z",
          "iopub.status.idle": "2021-10-26T22:46:58.316337Z",
          "shell.execute_reply.started": "2021-10-26T22:46:58.306071Z",
          "shell.execute_reply": "2021-10-26T22:46:58.315014Z"
        },
        "trusted": true,
        "id": "Gco0csKvNYWT"
      },
      "execution_count": null,
      "outputs": []
    },
    {
      "cell_type": "code",
      "source": [
        "sns.histplot(x='android vers', data=df_clean)\n",
        "plt.xticks(rotation=90);\n",
        "plt.title('Andoid Version Distributions over apps')\n",
        "plt.show()"
      ],
      "metadata": {
        "execution": {
          "iopub.status.busy": "2021-10-26T22:46:58.318371Z",
          "iopub.execute_input": "2021-10-26T22:46:58.31892Z",
          "iopub.status.idle": "2021-10-26T22:46:58.676482Z",
          "shell.execute_reply.started": "2021-10-26T22:46:58.318877Z",
          "shell.execute_reply": "2021-10-26T22:46:58.675481Z"
        },
        "trusted": true,
        "id": "kb2U5n-RNYWT"
      },
      "execution_count": null,
      "outputs": []
    },
    {
      "cell_type": "markdown",
      "source": [
        "Moreover,can group these android versions by the main number: for example versions 4.0.3 and 4.1 will be labeled as '4' and so on for the different versions"
      ],
      "metadata": {
        "id": "fFifuR5oNYWT"
      }
    },
    {
      "cell_type": "code",
      "source": [
        "df_clean['android vers_main']=df_clean['android vers'].str.extract(r'^(\\d+).', ).astype(float)"
      ],
      "metadata": {
        "execution": {
          "iopub.status.busy": "2021-10-26T22:46:58.678374Z",
          "iopub.execute_input": "2021-10-26T22:46:58.678624Z",
          "iopub.status.idle": "2021-10-26T22:46:58.701753Z",
          "shell.execute_reply.started": "2021-10-26T22:46:58.678595Z",
          "shell.execute_reply": "2021-10-26T22:46:58.700582Z"
        },
        "trusted": true,
        "id": "jNjOhjYUNYWT"
      },
      "execution_count": null,
      "outputs": []
    },
    {
      "cell_type": "code",
      "source": [
        "df_clean['android vers_main'].value_counts()"
      ],
      "metadata": {
        "execution": {
          "iopub.status.busy": "2021-10-26T22:46:58.704554Z",
          "iopub.execute_input": "2021-10-26T22:46:58.705002Z",
          "iopub.status.idle": "2021-10-26T22:46:58.72108Z",
          "shell.execute_reply.started": "2021-10-26T22:46:58.704893Z",
          "shell.execute_reply": "2021-10-26T22:46:58.719934Z"
        },
        "trusted": true,
        "id": "71smdM9WNYWT"
      },
      "execution_count": null,
      "outputs": []
    },
    {
      "cell_type": "code",
      "source": [
        "sns.histplot(x='android vers_main', data=df_clean)\n",
        "plt.xticks(rotation=90);\n",
        "plt.title('Main Andoid Version by apps')"
      ],
      "metadata": {
        "execution": {
          "iopub.status.busy": "2021-10-26T22:46:58.722542Z",
          "iopub.execute_input": "2021-10-26T22:46:58.7231Z",
          "iopub.status.idle": "2021-10-26T22:46:59.012436Z",
          "shell.execute_reply.started": "2021-10-26T22:46:58.723048Z",
          "shell.execute_reply": "2021-10-26T22:46:59.011196Z"
        },
        "trusted": true,
        "id": "TPDceS90NYWU"
      },
      "execution_count": null,
      "outputs": []
    },
    {
      "cell_type": "code",
      "source": [
        "df_clean = df_clean.loc[(df_clean['android vers_main'] >= 3)]"
      ],
      "metadata": {
        "execution": {
          "iopub.status.busy": "2021-10-26T22:46:59.0138Z",
          "iopub.execute_input": "2021-10-26T22:46:59.01403Z",
          "iopub.status.idle": "2021-10-26T22:46:59.021486Z",
          "shell.execute_reply.started": "2021-10-26T22:46:59.014003Z",
          "shell.execute_reply": "2021-10-26T22:46:59.020606Z"
        },
        "trusted": true,
        "id": "Zjvad3hVNYWU"
      },
      "execution_count": null,
      "outputs": []
    },
    {
      "cell_type": "code",
      "source": [
        "df_clean.info()"
      ],
      "metadata": {
        "execution": {
          "iopub.status.busy": "2021-10-26T22:46:59.022959Z",
          "iopub.execute_input": "2021-10-26T22:46:59.023202Z",
          "iopub.status.idle": "2021-10-26T22:46:59.048757Z",
          "shell.execute_reply.started": "2021-10-26T22:46:59.023175Z",
          "shell.execute_reply": "2021-10-26T22:46:59.047873Z"
        },
        "trusted": true,
        "id": "eHMSU7Z6NYWU"
      },
      "execution_count": null,
      "outputs": []
    },
    {
      "cell_type": "markdown",
      "source": [
        "We can also change the type of andoid vers to float64:"
      ],
      "metadata": {
        "id": "qpxmCRDKNYWU"
      }
    },
    {
      "cell_type": "code",
      "source": [
        "df_clean['android vers'] = df_clean['android vers'].astype(float)"
      ],
      "metadata": {
        "execution": {
          "iopub.status.busy": "2021-10-26T22:46:59.050044Z",
          "iopub.execute_input": "2021-10-26T22:46:59.050884Z",
          "iopub.status.idle": "2021-10-26T22:46:59.057599Z",
          "shell.execute_reply.started": "2021-10-26T22:46:59.050836Z",
          "shell.execute_reply": "2021-10-26T22:46:59.056841Z"
        },
        "trusted": true,
        "id": "cvilMU6ZNYWU"
      },
      "execution_count": null,
      "outputs": []
    },
    {
      "cell_type": "markdown",
      "source": [
        "There are some rows with missing values for rating and size. We can impute these quantites by KNNImputer later."
      ],
      "metadata": {
        "execution": {
          "iopub.status.busy": "2021-10-26T21:22:52.952346Z",
          "iopub.execute_input": "2021-10-26T21:22:52.953594Z",
          "iopub.status.idle": "2021-10-26T21:22:52.960863Z",
          "shell.execute_reply.started": "2021-10-26T21:22:52.953542Z",
          "shell.execute_reply": "2021-10-26T21:22:52.959893Z"
        },
        "id": "5W8d0KYVNYWU"
      }
    },
    {
      "cell_type": "markdown",
      "source": [
        "In the following, we will try to answer some questions by analyzing the data."
      ],
      "metadata": {
        "id": "uxDkuBvvNYWU"
      }
    },
    {
      "cell_type": "markdown",
      "source": [
        "# Q1 Do expensive apps have higher rating?"
      ],
      "metadata": {
        "id": "rN_DPD_QNYWU"
      }
    },
    {
      "cell_type": "code",
      "source": [
        "sns.regplot(x='price', y='rating', data=df_clean)\n",
        "plt.title('Price VS Rating')\n",
        "plt.show()"
      ],
      "metadata": {
        "execution": {
          "iopub.status.busy": "2021-10-26T22:46:59.058896Z",
          "iopub.execute_input": "2021-10-26T22:46:59.059153Z",
          "iopub.status.idle": "2021-10-26T22:46:59.659769Z",
          "shell.execute_reply.started": "2021-10-26T22:46:59.059126Z",
          "shell.execute_reply": "2021-10-26T22:46:59.658604Z"
        },
        "trusted": true,
        "id": "S3UtRL4TNYWU"
      },
      "execution_count": null,
      "outputs": []
    },
    {
      "cell_type": "markdown",
      "source": [
        "From this plot we can see a slight positive trend between price and rating: apps with higher prices tends to be slightly higher rated."
      ],
      "metadata": {
        "id": "ZvV7p0W5NYWV"
      }
    },
    {
      "cell_type": "markdown",
      "source": [
        "# Q2 Do apps with high rating have more reviews?"
      ],
      "metadata": {
        "id": "WEgzhxMENYWV"
      }
    },
    {
      "cell_type": "code",
      "source": [
        "sns.regplot(y='rating', x='reviews', data=df_clean)\n",
        "plt.title('No. Reviews VS Rating')\n",
        "plt.show()"
      ],
      "metadata": {
        "execution": {
          "iopub.status.busy": "2021-10-26T22:46:59.661039Z",
          "iopub.execute_input": "2021-10-26T22:46:59.66127Z",
          "iopub.status.idle": "2021-10-26T22:47:00.238033Z",
          "shell.execute_reply.started": "2021-10-26T22:46:59.661242Z",
          "shell.execute_reply": "2021-10-26T22:47:00.237378Z"
        },
        "trusted": true,
        "id": "6W9t_w-oNYWV"
      },
      "execution_count": null,
      "outputs": []
    },
    {
      "cell_type": "markdown",
      "source": [
        "We can see a positive trend between rating and number of reviews: apps with more reviews tends to have higher rating."
      ],
      "metadata": {
        "id": "yHKsBedNNYWV"
      }
    },
    {
      "cell_type": "markdown",
      "source": [
        "# Q3 Which category has more reviews?"
      ],
      "metadata": {
        "id": "bPkchxcONYWV"
      }
    },
    {
      "cell_type": "code",
      "source": [
        "plt.figure(figsize=(14,4))\n",
        "sns.boxplot(x='category', y='reviews', data=df_clean, hue='type')\n",
        "plt.yscale('log')\n",
        "plt.ylabel('')\n",
        "plt.xticks(rotation=90);\n",
        "plt.title('No. Reviews (log) vs Category')\n",
        "plt.show()"
      ],
      "metadata": {
        "execution": {
          "iopub.status.busy": "2021-10-26T22:47:00.239311Z",
          "iopub.execute_input": "2021-10-26T22:47:00.239824Z",
          "iopub.status.idle": "2021-10-26T22:47:02.762899Z",
          "shell.execute_reply.started": "2021-10-26T22:47:00.239778Z",
          "shell.execute_reply": "2021-10-26T22:47:02.76196Z"
        },
        "trusted": true,
        "id": "_nVUNxY0NYWV"
      },
      "execution_count": null,
      "outputs": []
    },
    {
      "cell_type": "markdown",
      "source": [
        "We can see that apps with the category game, entertainment, education and photography have more reviews than apps of other categories.<br>\n",
        "In particular, free apps seems to have more reviews than paid apps for most categories, with the exception of business and weather, there paid apps have more reviews overall."
      ],
      "metadata": {
        "id": "EmjMclptNYWV"
      }
    },
    {
      "cell_type": "markdown",
      "source": [
        "# Q4 Which category has higher rating?"
      ],
      "metadata": {
        "id": "wiHBb-iSNYWW"
      }
    },
    {
      "cell_type": "code",
      "source": [
        "plt.figure(figsize=(14,4))\n",
        "sns.boxplot(x='category', y='rating', data=df_clean, hue='type')\n",
        "plt.xticks(rotation=90);\n",
        "plt.title('Rating vs Category')\n",
        "plt.ylabel('')\n",
        "plt.show()"
      ],
      "metadata": {
        "execution": {
          "iopub.status.busy": "2021-10-26T22:47:02.764551Z",
          "iopub.execute_input": "2021-10-26T22:47:02.765285Z",
          "iopub.status.idle": "2021-10-26T22:47:04.470802Z",
          "shell.execute_reply.started": "2021-10-26T22:47:02.765232Z",
          "shell.execute_reply": "2021-10-26T22:47:04.469601Z"
        },
        "trusted": true,
        "id": "VXTrmKRYNYWW"
      },
      "execution_count": null,
      "outputs": []
    },
    {
      "cell_type": "markdown",
      "source": [
        "From this plot we can see that in most categories, paid apps have higher rating than free apps. In particular it is also interesint to notice that free apps have lots of outlier values compared to paid apps."
      ],
      "metadata": {
        "id": "AmYggQ4ZNYWW"
      }
    },
    {
      "cell_type": "markdown",
      "source": [
        "# Q5 Is there any relationship between the category and app size?"
      ],
      "metadata": {
        "id": "KM6-Q5TUNYWW"
      }
    },
    {
      "cell_type": "code",
      "source": [
        "plt.figure(figsize=(14,4))\n",
        "sns.boxplot(x='category', y='size(MB)', data=df_clean, hue='type')\n",
        "plt.xticks(rotation=90);\n",
        "plt.title('size vs category')\n",
        "plt.show()"
      ],
      "metadata": {
        "execution": {
          "iopub.status.busy": "2021-10-26T22:47:04.472108Z",
          "iopub.execute_input": "2021-10-26T22:47:04.472379Z",
          "iopub.status.idle": "2021-10-26T22:47:06.21817Z",
          "shell.execute_reply.started": "2021-10-26T22:47:04.472347Z",
          "shell.execute_reply": "2021-10-26T22:47:06.21723Z"
        },
        "trusted": true,
        "id": "bUzEKeBdNYWW"
      },
      "execution_count": null,
      "outputs": []
    },
    {
      "cell_type": "markdown",
      "source": [
        "We can see that the category where apps have a higher size are 'game', 'travel and local' (for paid apps only), education (for paid apps only) and family.<br>\n",
        "In particular, free apps seems to have a higher size compared to paid apps for almost all categories."
      ],
      "metadata": {
        "id": "HNh_Nb41NYWW"
      }
    },
    {
      "cell_type": "markdown",
      "source": [
        "# Q6 Is there any relationship between app rating and size?"
      ],
      "metadata": {
        "id": "pczYa9TANYWW"
      }
    },
    {
      "cell_type": "code",
      "source": [
        "sns.regplot(x='rating', y='size(MB)', data=df_clean)"
      ],
      "metadata": {
        "execution": {
          "iopub.status.busy": "2021-10-26T22:47:06.219918Z",
          "iopub.execute_input": "2021-10-26T22:47:06.220428Z",
          "iopub.status.idle": "2021-10-26T22:47:06.83934Z",
          "shell.execute_reply.started": "2021-10-26T22:47:06.22039Z",
          "shell.execute_reply": "2021-10-26T22:47:06.838119Z"
        },
        "trusted": true,
        "id": "BbDbqXtXNYWW"
      },
      "execution_count": null,
      "outputs": []
    },
    {
      "cell_type": "markdown",
      "source": [
        "We can see that apps with higher ratings have more possible sizes compared to apps with lower ratings (<3.0), where the size is almost always under 40 MB. "
      ],
      "metadata": {
        "id": "eMliTlpoNYWW"
      }
    },
    {
      "cell_type": "markdown",
      "source": [
        "# Q7 Is there any relationship between No. Installs and Reviews?"
      ],
      "metadata": {
        "id": "uTNZssNMNYWX"
      }
    },
    {
      "cell_type": "code",
      "source": [
        "sns.regplot(x='Installs(+)',y='reviews', data=df_clean)\n",
        "plt.yscale('log')\n",
        "plt.xscale('log')"
      ],
      "metadata": {
        "execution": {
          "iopub.status.busy": "2021-10-26T22:47:06.840774Z",
          "iopub.execute_input": "2021-10-26T22:47:06.841063Z",
          "iopub.status.idle": "2021-10-26T22:47:08.134187Z",
          "shell.execute_reply.started": "2021-10-26T22:47:06.841033Z",
          "shell.execute_reply": "2021-10-26T22:47:08.133139Z"
        },
        "trusted": true,
        "id": "wsm0L50GNYWX"
      },
      "execution_count": null,
      "outputs": []
    },
    {
      "cell_type": "markdown",
      "source": [
        "From this plot we can see that apps with more installs tends to have more reviews"
      ],
      "metadata": {
        "id": "6Ux09Xe5NYWX"
      }
    },
    {
      "cell_type": "markdown",
      "source": [
        "# App rating prediction"
      ],
      "metadata": {
        "id": "D_tlellhNYWX"
      }
    },
    {
      "cell_type": "code",
      "source": [
        "df_clean.info()"
      ],
      "metadata": {
        "execution": {
          "iopub.status.busy": "2021-10-26T22:47:08.135465Z",
          "iopub.execute_input": "2021-10-26T22:47:08.135698Z",
          "iopub.status.idle": "2021-10-26T22:47:08.155271Z",
          "shell.execute_reply.started": "2021-10-26T22:47:08.13567Z",
          "shell.execute_reply": "2021-10-26T22:47:08.15399Z"
        },
        "trusted": true,
        "id": "YxYWV_X_NYWX"
      },
      "execution_count": null,
      "outputs": []
    },
    {
      "cell_type": "code",
      "source": [
        "plt.figure(figsize=(8,4))\n",
        "sns.heatmap(df_clean.corr(), cmap='Blues', annot=True)\n",
        "plt.title('Correlation Matrix')"
      ],
      "metadata": {
        "execution": {
          "iopub.status.busy": "2021-10-26T22:47:08.157152Z",
          "iopub.execute_input": "2021-10-26T22:47:08.157429Z",
          "iopub.status.idle": "2021-10-26T22:47:09.068663Z",
          "shell.execute_reply.started": "2021-10-26T22:47:08.157396Z",
          "shell.execute_reply": "2021-10-26T22:47:09.067524Z"
        },
        "trusted": true,
        "id": "4LyCp_5GNYWX"
      },
      "execution_count": null,
      "outputs": []
    },
    {
      "cell_type": "code",
      "source": [
        "df1=df_clean.copy()"
      ],
      "metadata": {
        "execution": {
          "iopub.status.busy": "2021-10-26T22:47:09.070525Z",
          "iopub.execute_input": "2021-10-26T22:47:09.070912Z",
          "iopub.status.idle": "2021-10-26T22:47:09.076621Z",
          "shell.execute_reply.started": "2021-10-26T22:47:09.070872Z",
          "shell.execute_reply": "2021-10-26T22:47:09.075347Z"
        },
        "trusted": true,
        "id": "K4G4hu63NYWX"
      },
      "execution_count": null,
      "outputs": []
    },
    {
      "cell_type": "code",
      "source": [
        "df1=df1.drop(['app','last updated'], axis=1)"
      ],
      "metadata": {
        "execution": {
          "iopub.status.busy": "2021-10-26T22:47:09.078063Z",
          "iopub.execute_input": "2021-10-26T22:47:09.078323Z",
          "iopub.status.idle": "2021-10-26T22:47:09.092315Z",
          "shell.execute_reply.started": "2021-10-26T22:47:09.078291Z",
          "shell.execute_reply": "2021-10-26T22:47:09.090806Z"
        },
        "trusted": true,
        "id": "jL0ZRghbNYWX"
      },
      "execution_count": null,
      "outputs": []
    },
    {
      "cell_type": "code",
      "source": [
        "df1.info()"
      ],
      "metadata": {
        "execution": {
          "iopub.status.busy": "2021-10-26T22:47:09.094159Z",
          "iopub.execute_input": "2021-10-26T22:47:09.094623Z",
          "iopub.status.idle": "2021-10-26T22:47:09.119082Z",
          "shell.execute_reply.started": "2021-10-26T22:47:09.094568Z",
          "shell.execute_reply": "2021-10-26T22:47:09.118276Z"
        },
        "trusted": true,
        "id": "hkBGl6DcNYWX"
      },
      "execution_count": null,
      "outputs": []
    },
    {
      "cell_type": "code",
      "source": [
        "df1.head()"
      ],
      "metadata": {
        "execution": {
          "iopub.status.busy": "2021-10-26T22:47:09.120548Z",
          "iopub.execute_input": "2021-10-26T22:47:09.121065Z",
          "iopub.status.idle": "2021-10-26T22:47:09.14254Z",
          "shell.execute_reply.started": "2021-10-26T22:47:09.121027Z",
          "shell.execute_reply": "2021-10-26T22:47:09.141825Z"
        },
        "trusted": true,
        "id": "qlDMmkP7NYWY"
      },
      "execution_count": null,
      "outputs": []
    },
    {
      "cell_type": "markdown",
      "source": [
        "To improve the ML algorithm prediction performance, we will log-transform the column 'Installs(+)', in order to make it more 'Normal'.\n",
        "In particular, we should transform it with log(x+1) transform, since there are apps with 0 installs."
      ],
      "metadata": {
        "id": "m1WeuDKhNYWY"
      }
    },
    {
      "cell_type": "code",
      "source": [
        "df1.describe()"
      ],
      "metadata": {
        "execution": {
          "iopub.status.busy": "2021-10-26T22:47:09.14392Z",
          "iopub.execute_input": "2021-10-26T22:47:09.14423Z",
          "iopub.status.idle": "2021-10-26T22:47:09.192631Z",
          "shell.execute_reply.started": "2021-10-26T22:47:09.14417Z",
          "shell.execute_reply": "2021-10-26T22:47:09.191963Z"
        },
        "trusted": true,
        "id": "1GAu-FMfNYWY"
      },
      "execution_count": null,
      "outputs": []
    },
    {
      "cell_type": "code",
      "source": [
        "df1['Installs(+)']=np.log(df_clean['Installs(+)'] + 1)"
      ],
      "metadata": {
        "execution": {
          "iopub.status.busy": "2021-10-26T22:47:09.19371Z",
          "iopub.execute_input": "2021-10-26T22:47:09.194288Z",
          "iopub.status.idle": "2021-10-26T22:47:09.200299Z",
          "shell.execute_reply.started": "2021-10-26T22:47:09.194249Z",
          "shell.execute_reply": "2021-10-26T22:47:09.199255Z"
        },
        "trusted": true,
        "id": "eBMSDUjNNYWY"
      },
      "execution_count": null,
      "outputs": []
    },
    {
      "cell_type": "code",
      "source": [
        "sns.displot(df1['Installs(+)'])"
      ],
      "metadata": {
        "execution": {
          "iopub.status.busy": "2021-10-26T22:47:09.201658Z",
          "iopub.execute_input": "2021-10-26T22:47:09.201946Z",
          "iopub.status.idle": "2021-10-26T22:47:09.621043Z",
          "shell.execute_reply.started": "2021-10-26T22:47:09.201917Z",
          "shell.execute_reply": "2021-10-26T22:47:09.619808Z"
        },
        "trusted": true,
        "id": "2_AacQqhNYWY"
      },
      "execution_count": null,
      "outputs": []
    },
    {
      "cell_type": "markdown",
      "source": [
        "We can clearly see the benefit of the log transform, now it looks more like a normal distrbution."
      ],
      "metadata": {
        "id": "ApjUrZ9KNYWY"
      }
    },
    {
      "cell_type": "markdown",
      "source": [
        "Moreover, we can drop the column 'android ver_main' and keep 'android vers' only."
      ],
      "metadata": {
        "id": "790MYuYFNYWY"
      }
    },
    {
      "cell_type": "code",
      "source": [
        "df1.drop('android vers_main', axis = 1, inplace=True)"
      ],
      "metadata": {
        "execution": {
          "iopub.status.busy": "2021-10-26T22:47:09.62253Z",
          "iopub.execute_input": "2021-10-26T22:47:09.623048Z",
          "iopub.status.idle": "2021-10-26T22:47:09.630674Z",
          "shell.execute_reply.started": "2021-10-26T22:47:09.623001Z",
          "shell.execute_reply": "2021-10-26T22:47:09.629707Z"
        },
        "trusted": true,
        "id": "UxTT25VfNYWY"
      },
      "execution_count": null,
      "outputs": []
    },
    {
      "cell_type": "markdown",
      "source": [
        "## Categorical features Encoding"
      ],
      "metadata": {
        "id": "PMW-7k6yNYWY"
      }
    },
    {
      "cell_type": "markdown",
      "source": [
        "First, we replace Free and paid with 0 and 1 respecitvely in the price column."
      ],
      "metadata": {
        "id": "KnIgRe65NYWZ"
      }
    },
    {
      "cell_type": "code",
      "source": [
        "df1['type'] = df1['type'].replace({'Free':0, \"Paid\":1})"
      ],
      "metadata": {
        "execution": {
          "iopub.status.busy": "2021-10-26T22:47:09.632245Z",
          "iopub.execute_input": "2021-10-26T22:47:09.632483Z",
          "iopub.status.idle": "2021-10-26T22:47:09.651171Z",
          "shell.execute_reply.started": "2021-10-26T22:47:09.632455Z",
          "shell.execute_reply": "2021-10-26T22:47:09.650363Z"
        },
        "trusted": true,
        "id": "q0kSdXhQNYWZ"
      },
      "execution_count": null,
      "outputs": []
    },
    {
      "cell_type": "code",
      "source": [
        "df1.info()"
      ],
      "metadata": {
        "execution": {
          "iopub.status.busy": "2021-10-26T22:47:09.652224Z",
          "iopub.execute_input": "2021-10-26T22:47:09.652477Z",
          "iopub.status.idle": "2021-10-26T22:47:09.675977Z",
          "shell.execute_reply.started": "2021-10-26T22:47:09.652448Z",
          "shell.execute_reply": "2021-10-26T22:47:09.674877Z"
        },
        "trusted": true,
        "id": "7Al-KVP4NYWZ"
      },
      "execution_count": null,
      "outputs": []
    },
    {
      "cell_type": "markdown",
      "source": [
        "For what concerns Content Rating and Genres, we will encode them by label encoder, since OHE will create too many columns."
      ],
      "metadata": {
        "id": "pJQ9qPvgNYWZ"
      }
    },
    {
      "cell_type": "code",
      "source": [
        "en = LabelEncoder()\n",
        "catCols =  ['category','content rating','genres']\n",
        "for cols in catCols:\n",
        "    df1[cols] = en.fit_transform(df1[cols])"
      ],
      "metadata": {
        "execution": {
          "iopub.status.busy": "2021-10-26T22:47:09.679158Z",
          "iopub.execute_input": "2021-10-26T22:47:09.679581Z",
          "iopub.status.idle": "2021-10-26T22:47:09.694246Z",
          "shell.execute_reply.started": "2021-10-26T22:47:09.679531Z",
          "shell.execute_reply": "2021-10-26T22:47:09.693355Z"
        },
        "trusted": true,
        "id": "B-lpX4vsNYWZ"
      },
      "execution_count": null,
      "outputs": []
    },
    {
      "cell_type": "code",
      "source": [
        "df1.info()"
      ],
      "metadata": {
        "execution": {
          "iopub.status.busy": "2021-10-26T22:47:09.69559Z",
          "iopub.execute_input": "2021-10-26T22:47:09.695874Z",
          "iopub.status.idle": "2021-10-26T22:47:09.720199Z",
          "shell.execute_reply.started": "2021-10-26T22:47:09.695839Z",
          "shell.execute_reply": "2021-10-26T22:47:09.71893Z"
        },
        "trusted": true,
        "id": "XN10R47TNYWZ"
      },
      "execution_count": null,
      "outputs": []
    },
    {
      "cell_type": "markdown",
      "source": [
        "Finally we can impute the missing values in rating and size by KNNImputer!"
      ],
      "metadata": {
        "id": "pUJAfopYNYWZ"
      }
    },
    {
      "cell_type": "code",
      "source": [
        "imputer = KNNImputer(n_neighbors=3)\n",
        "df1 = pd.DataFrame(imputer.fit_transform(df1),columns = df1.columns)"
      ],
      "metadata": {
        "execution": {
          "iopub.status.busy": "2021-10-26T22:47:09.721311Z",
          "iopub.execute_input": "2021-10-26T22:47:09.721876Z",
          "iopub.status.idle": "2021-10-26T22:47:10.28958Z",
          "shell.execute_reply.started": "2021-10-26T22:47:09.721835Z",
          "shell.execute_reply": "2021-10-26T22:47:10.288308Z"
        },
        "trusted": true,
        "id": "vNYT6GV7NYWZ"
      },
      "execution_count": null,
      "outputs": []
    },
    {
      "cell_type": "code",
      "source": [
        "df1.info()"
      ],
      "metadata": {
        "execution": {
          "iopub.status.busy": "2021-10-26T22:47:10.290915Z",
          "iopub.execute_input": "2021-10-26T22:47:10.291208Z",
          "iopub.status.idle": "2021-10-26T22:47:10.308687Z",
          "shell.execute_reply.started": "2021-10-26T22:47:10.291175Z",
          "shell.execute_reply": "2021-10-26T22:47:10.307528Z"
        },
        "trusted": true,
        "id": "Ld7VnrPuNYWZ"
      },
      "execution_count": null,
      "outputs": []
    },
    {
      "cell_type": "code",
      "source": [
        "df1.head()"
      ],
      "metadata": {
        "execution": {
          "iopub.status.busy": "2021-10-26T22:47:10.310548Z",
          "iopub.execute_input": "2021-10-26T22:47:10.310904Z",
          "iopub.status.idle": "2021-10-26T22:47:10.336978Z",
          "shell.execute_reply.started": "2021-10-26T22:47:10.310859Z",
          "shell.execute_reply": "2021-10-26T22:47:10.336081Z"
        },
        "trusted": true,
        "id": "E7kM1TRINYWZ"
      },
      "execution_count": null,
      "outputs": []
    },
    {
      "cell_type": "code",
      "source": [
        "X=df1.drop('rating', axis = 1).values"
      ],
      "metadata": {
        "execution": {
          "iopub.status.busy": "2021-10-26T22:47:10.340682Z",
          "iopub.execute_input": "2021-10-26T22:47:10.340955Z",
          "iopub.status.idle": "2021-10-26T22:47:10.346694Z",
          "shell.execute_reply.started": "2021-10-26T22:47:10.340926Z",
          "shell.execute_reply": "2021-10-26T22:47:10.345952Z"
        },
        "trusted": true,
        "id": "l9jqmhe0NYWa"
      },
      "execution_count": null,
      "outputs": []
    },
    {
      "cell_type": "code",
      "source": [
        "y=df1['rating'].values"
      ],
      "metadata": {
        "execution": {
          "iopub.status.busy": "2021-10-26T22:47:10.348199Z",
          "iopub.execute_input": "2021-10-26T22:47:10.348457Z",
          "iopub.status.idle": "2021-10-26T22:47:10.361907Z",
          "shell.execute_reply.started": "2021-10-26T22:47:10.348427Z",
          "shell.execute_reply": "2021-10-26T22:47:10.360802Z"
        },
        "trusted": true,
        "id": "18ggLLdCNYWa"
      },
      "execution_count": null,
      "outputs": []
    },
    {
      "cell_type": "code",
      "source": [
        "X_train, X_test, y_train, y_test = train_test_split(X, y, test_size = 0.2, random_state = 42)"
      ],
      "metadata": {
        "execution": {
          "iopub.status.busy": "2021-10-26T22:47:10.363664Z",
          "iopub.execute_input": "2021-10-26T22:47:10.363978Z",
          "iopub.status.idle": "2021-10-26T22:47:10.377383Z",
          "shell.execute_reply.started": "2021-10-26T22:47:10.363944Z",
          "shell.execute_reply": "2021-10-26T22:47:10.376182Z"
        },
        "trusted": true,
        "id": "BG6-TP03NYWa"
      },
      "execution_count": null,
      "outputs": []
    },
    {
      "cell_type": "code",
      "source": [
        "scaler = MinMaxScaler()"
      ],
      "metadata": {
        "execution": {
          "iopub.status.busy": "2021-10-26T22:47:10.379377Z",
          "iopub.execute_input": "2021-10-26T22:47:10.379662Z",
          "iopub.status.idle": "2021-10-26T22:47:10.391275Z",
          "shell.execute_reply.started": "2021-10-26T22:47:10.379629Z",
          "shell.execute_reply": "2021-10-26T22:47:10.390129Z"
        },
        "trusted": true,
        "id": "meLKO5MdNYWa"
      },
      "execution_count": null,
      "outputs": []
    },
    {
      "cell_type": "code",
      "source": [
        "scaler.fit(X_train)"
      ],
      "metadata": {
        "execution": {
          "iopub.status.busy": "2021-10-26T22:47:10.392952Z",
          "iopub.execute_input": "2021-10-26T22:47:10.393255Z",
          "iopub.status.idle": "2021-10-26T22:47:10.408886Z",
          "shell.execute_reply.started": "2021-10-26T22:47:10.393219Z",
          "shell.execute_reply": "2021-10-26T22:47:10.407935Z"
        },
        "trusted": true,
        "id": "7dMolHB7NYWa"
      },
      "execution_count": null,
      "outputs": []
    },
    {
      "cell_type": "code",
      "source": [
        "X_train = scaler.transform(X_train)\n",
        "X_test = scaler.transform(X_test)            "
      ],
      "metadata": {
        "execution": {
          "iopub.status.busy": "2021-10-26T22:47:10.410344Z",
          "iopub.execute_input": "2021-10-26T22:47:10.410578Z",
          "iopub.status.idle": "2021-10-26T22:47:10.4203Z",
          "shell.execute_reply.started": "2021-10-26T22:47:10.410552Z",
          "shell.execute_reply": "2021-10-26T22:47:10.419347Z"
        },
        "trusted": true,
        "id": "e19YyN_ANYWa"
      },
      "execution_count": null,
      "outputs": []
    },
    {
      "cell_type": "code",
      "source": [
        "rf = RandomForestRegressor()"
      ],
      "metadata": {
        "execution": {
          "iopub.status.busy": "2021-10-26T22:47:10.431315Z",
          "iopub.execute_input": "2021-10-26T22:47:10.432045Z",
          "iopub.status.idle": "2021-10-26T22:47:10.436617Z",
          "shell.execute_reply.started": "2021-10-26T22:47:10.432Z",
          "shell.execute_reply": "2021-10-26T22:47:10.435896Z"
        },
        "trusted": true,
        "id": "I2pYzJswNYWa"
      },
      "execution_count": null,
      "outputs": []
    },
    {
      "cell_type": "code",
      "source": [
        "rf.fit(X_train,y_train)"
      ],
      "metadata": {
        "execution": {
          "iopub.status.busy": "2021-10-26T22:47:10.438171Z",
          "iopub.execute_input": "2021-10-26T22:47:10.438817Z",
          "iopub.status.idle": "2021-10-26T22:47:12.53642Z",
          "shell.execute_reply.started": "2021-10-26T22:47:10.438772Z",
          "shell.execute_reply": "2021-10-26T22:47:12.535439Z"
        },
        "trusted": true,
        "id": "lRmfwHWlNYWa"
      },
      "execution_count": null,
      "outputs": []
    },
    {
      "cell_type": "code",
      "source": [
        "y_pred_rf = rf.predict(X_test)"
      ],
      "metadata": {
        "execution": {
          "iopub.status.busy": "2021-10-26T22:47:12.537846Z",
          "iopub.execute_input": "2021-10-26T22:47:12.538531Z",
          "iopub.status.idle": "2021-10-26T22:47:12.584389Z",
          "shell.execute_reply.started": "2021-10-26T22:47:12.538486Z",
          "shell.execute_reply": "2021-10-26T22:47:12.58327Z"
        },
        "trusted": true,
        "id": "9LhJx15rNYWa"
      },
      "execution_count": null,
      "outputs": []
    },
    {
      "cell_type": "code",
      "source": [
        "mse_rf = mean_squared_error(y_test, y_pred_rf)\n",
        "print(\"RMSE using RF: \", np.sqrt(mse_rf))"
      ],
      "metadata": {
        "execution": {
          "iopub.status.busy": "2021-10-26T22:47:12.585698Z",
          "iopub.execute_input": "2021-10-26T22:47:12.586295Z",
          "iopub.status.idle": "2021-10-26T22:47:12.592568Z",
          "shell.execute_reply.started": "2021-10-26T22:47:12.586255Z",
          "shell.execute_reply": "2021-10-26T22:47:12.59148Z"
        },
        "trusted": true,
        "id": "28_Ocm6cNYWa"
      },
      "execution_count": null,
      "outputs": []
    },
    {
      "cell_type": "code",
      "source": [
        "feature_name_list=df1.drop('rating', axis = 1).columns"
      ],
      "metadata": {
        "execution": {
          "iopub.status.busy": "2021-10-26T22:47:12.594396Z",
          "iopub.execute_input": "2021-10-26T22:47:12.594907Z",
          "iopub.status.idle": "2021-10-26T22:47:12.608138Z",
          "shell.execute_reply.started": "2021-10-26T22:47:12.59487Z",
          "shell.execute_reply": "2021-10-26T22:47:12.606937Z"
        },
        "trusted": true,
        "id": "0u8pM223NYWb"
      },
      "execution_count": null,
      "outputs": []
    },
    {
      "cell_type": "code",
      "source": [
        "rf.feature_names = feature_name_list"
      ],
      "metadata": {
        "execution": {
          "iopub.status.busy": "2021-10-26T22:47:12.610158Z",
          "iopub.execute_input": "2021-10-26T22:47:12.610534Z",
          "iopub.status.idle": "2021-10-26T22:47:12.620358Z",
          "shell.execute_reply.started": "2021-10-26T22:47:12.610486Z",
          "shell.execute_reply": "2021-10-26T22:47:12.619368Z"
        },
        "trusted": true,
        "id": "kb6GwVaKNYWb"
      },
      "execution_count": null,
      "outputs": []
    },
    {
      "cell_type": "code",
      "source": [
        "plt.barh(rf.feature_names,rf.feature_importances_)\n",
        "plt.xticks(rotation=90);\n",
        "plt.title('Feature Importance by Random Forest')\n",
        "plt.xlabel('Feature Importance (%)')"
      ],
      "metadata": {
        "execution": {
          "iopub.status.busy": "2021-10-26T22:47:12.621827Z",
          "iopub.execute_input": "2021-10-26T22:47:12.62278Z",
          "iopub.status.idle": "2021-10-26T22:47:12.937936Z",
          "shell.execute_reply.started": "2021-10-26T22:47:12.622714Z",
          "shell.execute_reply": "2021-10-26T22:47:12.936867Z"
        },
        "trusted": true,
        "id": "l1bBiIbDNYWb"
      },
      "execution_count": null,
      "outputs": []
    },
    {
      "cell_type": "markdown",
      "source": [
        "## XGBoost"
      ],
      "metadata": {
        "id": "kUpj7vgYNYWb"
      }
    },
    {
      "cell_type": "code",
      "source": [
        "xgb = XGBRegressor(n_estimators=2000, learning_rate=0.01)\n",
        "xgb.fit(X_train, y_train) \n",
        "y_pred_xgb = xgb.predict(X_test) \n",
        "mse_xgb = mean_squared_error(y_pred_xgb, y_test)"
      ],
      "metadata": {
        "execution": {
          "iopub.status.busy": "2021-10-26T22:47:12.939334Z",
          "iopub.execute_input": "2021-10-26T22:47:12.939592Z",
          "iopub.status.idle": "2021-10-26T22:47:19.771532Z",
          "shell.execute_reply.started": "2021-10-26T22:47:12.939563Z",
          "shell.execute_reply": "2021-10-26T22:47:19.770542Z"
        },
        "trusted": true,
        "id": "Y3U5AYeNNYWb"
      },
      "execution_count": null,
      "outputs": []
    },
    {
      "cell_type": "markdown",
      "source": [
        "# Rating prediction Summary"
      ],
      "metadata": {
        "id": "jSadHNiFNYWb"
      }
    },
    {
      "cell_type": "code",
      "source": [
        "xgb.feature_names = feature_name_list"
      ],
      "metadata": {
        "execution": {
          "iopub.status.busy": "2021-10-26T22:47:19.772913Z",
          "iopub.execute_input": "2021-10-26T22:47:19.77375Z",
          "iopub.status.idle": "2021-10-26T22:47:19.77883Z",
          "shell.execute_reply.started": "2021-10-26T22:47:19.773673Z",
          "shell.execute_reply": "2021-10-26T22:47:19.777895Z"
        },
        "trusted": true,
        "id": "Je2NcfC_NYWb"
      },
      "execution_count": null,
      "outputs": []
    },
    {
      "cell_type": "code",
      "source": [
        "print(r\"RMSE with RF: {:.3f}\".format(np.sqrt(mse_rf)))\n",
        "print(r\"RMSE with XGBoost: {:.3f}\".format(np.sqrt(mse_xgb)))"
      ],
      "metadata": {
        "execution": {
          "iopub.status.busy": "2021-10-26T22:47:19.780468Z",
          "iopub.execute_input": "2021-10-26T22:47:19.781321Z",
          "iopub.status.idle": "2021-10-26T22:47:19.795272Z",
          "shell.execute_reply.started": "2021-10-26T22:47:19.781276Z",
          "shell.execute_reply": "2021-10-26T22:47:19.794439Z"
        },
        "trusted": true,
        "id": "JT3a4BtQNYWb"
      },
      "execution_count": null,
      "outputs": []
    },
    {
      "cell_type": "code",
      "source": [
        "plt.barh(rf.feature_names,rf.feature_importances_, alpha=0.4, label='RF', color='red')\n",
        "plt.barh(xgb.feature_names,xgb.feature_importances_, alpha=0.4, label='XGBoost', color='blue')\n",
        "plt.legend(loc='upper right');\n",
        "plt.title('Feature Importance to predict Rating by ML models')\n",
        "plt.xlabel('Feature Importance (%)')\n",
        "plt.show()"
      ],
      "metadata": {
        "execution": {
          "iopub.status.busy": "2021-10-26T22:47:19.796917Z",
          "iopub.execute_input": "2021-10-26T22:47:19.797201Z",
          "iopub.status.idle": "2021-10-26T22:47:21.672918Z",
          "shell.execute_reply.started": "2021-10-26T22:47:19.797167Z",
          "shell.execute_reply": "2021-10-26T22:47:21.67184Z"
        },
        "trusted": true,
        "id": "LnJSYkJ7NYWb"
      },
      "execution_count": null,
      "outputs": []
    },
    {
      "cell_type": "markdown",
      "source": [
        "We can see that RF and XGBoost gave similar results in terms of RMSE.<br>\n",
        "For what concerns the Feature importance, we can see that RF gave more importance to reviews and size, while XGBoost spreaded more the feature importance among all the features."
      ],
      "metadata": {
        "id": "rIGxkmhaNYWc"
      }
    }
  ]
}